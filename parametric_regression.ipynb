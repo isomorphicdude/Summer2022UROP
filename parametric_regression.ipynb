{
 "cells": [
  {
   "cell_type": "markdown",
   "metadata": {},
   "source": [
    "# Parametric Regression  \n",
    "\n",
    "In this notebook, we attemps to find optimal parameters for the model by using various nonlinear parametric methods"
   ]
  },
  {
   "cell_type": "code",
   "execution_count": 1,
   "metadata": {},
   "outputs": [
    {
     "name": "stdout",
     "output_type": "stream",
     "text": [
      "Your machine has 8 cores.\n"
     ]
    }
   ],
   "source": [
    "import os\n",
    "import time\n",
    "import shutil\n",
    "import contextlib\n",
    "import numpy as np\n",
    "import matplotlib.pyplot as plt\n",
    "\n",
    "\n",
    "from helper import *\n",
    "from models import *\n",
    "from solvers.euler import *\n",
    "from data_generator import *\n",
    "from solvers.gn_solver import *\n",
    "from solvers.rk_solvers import *\n",
    "\n",
    "\n",
    "print(f\"Your machine has {os.cpu_count()} cores.\")\n"
   ]
  },
  {
   "cell_type": "markdown",
   "metadata": {},
   "source": [
    "## 1 Gauss Newton"
   ]
  },
  {
   "cell_type": "markdown",
   "metadata": {},
   "source": [
    "First obtain some data as a list of tuples `total`. The first component is the initial conditions of `(201,2)` while the second is of the shape `(1000, 201, 2)`"
   ]
  },
  {
   "cell_type": "code",
   "execution_count": 3,
   "metadata": {},
   "outputs": [
    {
     "name": "stdout",
     "output_type": "stream",
     "text": [
      "Trying to use multiprocessing...\n",
      "Multiprocessing successful.\n",
      "Time taken: 2.807790994644165 seconds.\n"
     ]
    }
   ],
   "source": [
    "N = 10\n",
    "\n",
    "start = time.time()\n",
    "\n",
    "total_model_4 = generateData(model4,\n",
    "        num_data = 10,\n",
    "        init_sty = 'random',\n",
    "        times = (0, 20),\n",
    "        params = {'no. of prey': N, \n",
    "    'kappa for prey': 0.5, \n",
    "    'attraction of prey a': 0, \n",
    "    'repulsion of prey b_1': 0.15, \n",
    "    'repulsion of pred b_2': 0.55,\n",
    "    'p1 spotted': 0.8,\n",
    "    'p2 not spotted':0.4,\n",
    "    'angle_prey': np.cos(np.pi / 3),\n",
    "    'angle_pred': np.cos(np.pi / 2.5), \n",
    "    'num_neighbours': 5,\n",
    "    'attraction of pred c': 10, \n",
    "    'exponent of dist pred p': 3},\n",
    "        steps = 1000,\n",
    "        second_order = False,\n",
    "        method = 'rk2',\n",
    "        return_vel = False,\n",
    "        cores = 1,\n",
    "        flattened=True)\n",
    "end = time.time()\n",
    "print(f\"Time taken: {end-start} seconds.\")"
   ]
  },
  {
   "cell_type": "markdown",
   "metadata": {},
   "source": [
    "Alternatively, we generate data using `model1`, the simplest of all models."
   ]
  },
  {
   "cell_type": "code",
   "execution_count": 4,
   "metadata": {},
   "outputs": [
    {
     "name": "stdout",
     "output_type": "stream",
     "text": [
      "Trying to use multiprocessing...\n",
      "Multiprocessing successful.\n",
      "Time taken: 1.972480058670044 seconds.\n"
     ]
    }
   ],
   "source": [
    "# trying a simpler model\n",
    "start = time.time()\n",
    "\n",
    "total = generateData(model1,\n",
    "        num_data = 10,\n",
    "        init_sty = 'random',\n",
    "        times = (0, 20),\n",
    "        params = {'no. of prey': N, \n",
    "    'kappa for prey': 0.5, \n",
    "    'attraction of prey a': 1, \n",
    "    'repulsion of prey b_1': 1, \n",
    "    'repulsion of pred b_2': 0.07, \n",
    "    'attraction of pred c': 10, \n",
    "    'exponent of dist pred p': 1.2},\n",
    "        steps = 1000,\n",
    "        second_order = False,\n",
    "        method = 'rk2',\n",
    "        return_vel = False,\n",
    "        cores = 1,\n",
    "        flattened=True)\n",
    "end = time.time()\n",
    "print(f\"Time taken: {end-start} seconds.\")"
   ]
  },
  {
   "cell_type": "markdown",
   "metadata": {},
   "source": [
    "We still need a function that takes in parameter vector instead of a dictionary for regression; we take `attraction of prey a`, `repulsion of prey b_1`, `repulsion of pred b_2` as parameters for regression."
   ]
  },
  {
   "cell_type": "code",
   "execution_count": 5,
   "metadata": {},
   "outputs": [],
   "source": [
    "def fModel4(x, vec):\n",
    "    \"\"\"\n",
    "    Returns a flattened output.  \n",
    "\n",
    "    Args:  \n",
    "        - x: ndarray, initial conditions\n",
    "        - vec: ndarray, parameters of length 3\n",
    "    \n",
    "    \"\"\"  \n",
    "    params = {'no. of prey': N, \n",
    "    'kappa for prey': 0.5, \n",
    "    'attraction of prey a': vec[0], \n",
    "    'repulsion of prey b_1': vec[1], \n",
    "    'repulsion of pred b_2': vec[2],\n",
    "    'p1 spotted': 0.8,\n",
    "    'p2 not spotted':0.4,\n",
    "    'angle_prey': np.cos(np.pi / 3),\n",
    "    'angle_pred': np.cos(np.pi / 2.5), \n",
    "    'num_neighbours': 5,\n",
    "    'attraction of pred c': 10, \n",
    "    'exponent of dist pred p': 3}\n",
    "\n",
    "    N = 100\n",
    "    times = (0,20)\n",
    "    steps = 1000\n",
    "    start, end = times  \n",
    "    h = (end - start) / steps\n",
    "    x = x.reshape(-1, 2) # reshape to coordinate form of initial conditions\n",
    "    y = rk2(model4, x, h, 2*N+1, times, params, return_vel=False, verbose=False)\n",
    "\n",
    "    return np.ravel(y)"
   ]
  },
  {
   "cell_type": "markdown",
   "metadata": {},
   "source": [
    "We try to extract just one parameter, `attraction of prey a`"
   ]
  },
  {
   "cell_type": "markdown",
   "metadata": {},
   "source": [
    "Feed in one sample and try the `GaussNewtonSolver`. Note it might be better to drop the zero values in the input and to remove some configurations at some time steps of $y$"
   ]
  },
  {
   "cell_type": "code",
   "execution_count": 6,
   "metadata": {},
   "outputs": [],
   "source": [
    "def fModel1(x, vec):\n",
    "    \"\"\"\n",
    "    Returns a flattened output.  \n",
    "\n",
    "    Args:  \n",
    "        - x: ndarray, initial conditions\n",
    "        - vec: ndarray, parameters of length 1\n",
    "    \n",
    "    \"\"\"  \n",
    "    N = 10\n",
    "\n",
    "    params = {'no. of prey': N, \n",
    "    'kappa for prey': 0.5, \n",
    "    'attraction of prey a': vec[0], \n",
    "    'repulsion of prey b_1': 1, \n",
    "    'repulsion of pred b_2': 0.07, \n",
    "    'attraction of pred c': 10, \n",
    "    'exponent of dist pred p': 1.2}\n",
    "    \n",
    "    times = (0,20)\n",
    "    steps = 1000\n",
    "    start, end = times  \n",
    "    h = (end - start) / steps\n",
    "    x = x.reshape(-1, 2) # reshape to coordinate form of initial conditions\n",
    "    y = rk2(model1, x, h, 2*N+1, times, params, return_vel=False, verbose=False)\n",
    "\n",
    "    return np.ravel(y)[::100]"
   ]
  },
  {
   "cell_type": "markdown",
   "metadata": {},
   "source": [
    "We also apply the same augmentation to data"
   ]
  },
  {
   "cell_type": "code",
   "execution_count": 7,
   "metadata": {},
   "outputs": [
    {
     "name": "stdout",
     "output_type": "stream",
     "text": [
      "(42000,)\n",
      "420\n"
     ]
    }
   ],
   "source": [
    "x0 = total[0][0]\n",
    "y0 = total[0][1]  \n",
    "print(y0.shape)\n",
    "# only keep times that are 100 apart  \n",
    "y0 = y0[::100]\n",
    "print(len(y0))"
   ]
  },
  {
   "cell_type": "code",
   "execution_count": 8,
   "metadata": {},
   "outputs": [],
   "source": [
    "def reduceTimesteps(xy_pair, timesteps=100):\n",
    "    \"\"\"\n",
    "    Reduces the number of timesteps by a factor of timesteps.\n",
    "    \"\"\"\n",
    "    return (xy_pair[0], xy_pair[1][::timesteps])\n",
    "\n",
    "total = [reduceTimesteps(xy_pair) for xy_pair in total]"
   ]
  },
  {
   "cell_type": "code",
   "execution_count": 9,
   "metadata": {},
   "outputs": [
    {
     "name": "stdout",
     "output_type": "stream",
     "text": [
      "(420,)\n"
     ]
    }
   ],
   "source": [
    "print(total[0][1].shape)"
   ]
  },
  {
   "cell_type": "markdown",
   "metadata": {},
   "source": [
    "Ideally the solver should return `attraction of prey a` as `1` with some acceptable error"
   ]
  },
  {
   "cell_type": "code",
   "execution_count": 10,
   "metadata": {},
   "outputs": [
    {
     "name": "stderr",
     "output_type": "stream",
     "text": [
      "  0%|          | 0/10 [00:00<?, ?it/s]"
     ]
    },
    {
     "name": "stdout",
     "output_type": "stream",
     "text": [
      "Starting trial 1\n"
     ]
    },
    {
     "name": "stderr",
     "output_type": "stream",
     "text": [
      " 10%|█         | 1/10 [00:04<00:44,  4.91s/it]"
     ]
    },
    {
     "name": "stdout",
     "output_type": "stream",
     "text": [
      "Max iteration reached for line search!\n",
      "The step size is -1.3107200000000006\n",
      "The descent direction is [0.02088798]\n",
      "After trial 1, parameters are [1.97262171] \n",
      "\n",
      "Starting trial 2\n"
     ]
    },
    {
     "name": "stderr",
     "output_type": "stream",
     "text": [
      " 20%|██        | 2/10 [00:09<00:39,  4.89s/it]"
     ]
    },
    {
     "name": "stdout",
     "output_type": "stream",
     "text": [
      "Max iteration reached for line search!\n",
      "The step size is -0.3435973836800002\n",
      "The descent direction is [0.02956899]\n",
      "After trial 2, parameters are [1.96246188] \n",
      "\n",
      "Starting trial 3\n"
     ]
    },
    {
     "name": "stderr",
     "output_type": "stream",
     "text": [
      " 30%|███       | 3/10 [00:14<00:34,  4.88s/it]"
     ]
    },
    {
     "name": "stdout",
     "output_type": "stream",
     "text": [
      "Max iteration reached for line search!\n",
      "The step size is -0.09007199254741001\n",
      "The descent direction is [0.0549487]\n",
      "After trial 3, parameters are [1.95751254] \n",
      "\n",
      "Starting trial 4\n"
     ]
    },
    {
     "name": "stderr",
     "output_type": "stream",
     "text": [
      " 40%|████      | 4/10 [00:19<00:29,  4.87s/it]"
     ]
    },
    {
     "name": "stdout",
     "output_type": "stream",
     "text": [
      "Max iteration reached for line search!\n",
      "The step size is -0.023611832414348256\n",
      "The descent direction is [0.05767611]\n",
      "After trial 4, parameters are [1.9561507] \n",
      "\n",
      "Starting trial 5\n"
     ]
    },
    {
     "name": "stderr",
     "output_type": "stream",
     "text": [
      " 50%|█████     | 5/10 [00:24<00:24,  4.87s/it]"
     ]
    },
    {
     "name": "stdout",
     "output_type": "stream",
     "text": [
      "Max iteration reached for line search!\n",
      "The step size is -0.006189700196426911\n",
      "The descent direction is [0.05726285]\n",
      "After trial 5, parameters are [1.95579626] \n",
      "\n",
      "Starting trial 6\n"
     ]
    },
    {
     "name": "stderr",
     "output_type": "stream",
     "text": [
      " 60%|██████    | 6/10 [00:29<00:19,  4.86s/it]"
     ]
    },
    {
     "name": "stdout",
     "output_type": "stream",
     "text": [
      "Max iteration reached for line search!\n",
      "The step size is -0.0016225927682921367\n",
      "The descent direction is [0.0570758]\n",
      "After trial 6, parameters are [1.95570365] \n",
      "\n",
      "Starting trial 7\n"
     ]
    },
    {
     "name": "stderr",
     "output_type": "stream",
     "text": [
      " 70%|███████   | 7/10 [00:34<00:14,  4.86s/it]"
     ]
    },
    {
     "name": "stdout",
     "output_type": "stream",
     "text": [
      "Max iteration reached for line search!\n",
      "The step size is -0.000425352958651174\n",
      "The descent direction is [0.05702156]\n",
      "After trial 7, parameters are [1.9556794] \n",
      "\n",
      "Starting trial 8\n"
     ]
    },
    {
     "name": "stderr",
     "output_type": "stream",
     "text": [
      " 80%|████████  | 8/10 [00:38<00:09,  4.86s/it]"
     ]
    },
    {
     "name": "stdout",
     "output_type": "stream",
     "text": [
      "Max iteration reached for line search!\n",
      "The step size is -0.00011150372599265338\n",
      "The descent direction is [0.05700699]\n",
      "After trial 8, parameters are [1.95567304] \n",
      "\n",
      "Starting trial 9\n"
     ]
    },
    {
     "name": "stderr",
     "output_type": "stream",
     "text": [
      " 90%|█████████ | 9/10 [00:43<00:04,  4.86s/it]"
     ]
    },
    {
     "name": "stdout",
     "output_type": "stream",
     "text": [
      "Max iteration reached for line search!\n",
      "The step size is -2.9230032746618137e-05\n",
      "The descent direction is [0.05700314]\n",
      "After trial 9, parameters are [1.95567137] \n",
      "\n",
      "Starting trial 10\n"
     ]
    },
    {
     "name": "stderr",
     "output_type": "stream",
     "text": [
      "100%|██████████| 10/10 [00:48<00:00,  4.86s/it]"
     ]
    },
    {
     "name": "stdout",
     "output_type": "stream",
     "text": [
      "Max iteration reached for line search!\n",
      "The step size is -7.66247770432947e-06\n",
      "The descent direction is [0.05700213]\n",
      "After trial 10, parameters are [1.95567094] \n",
      "\n"
     ]
    },
    {
     "name": "stderr",
     "output_type": "stream",
     "text": [
      "\n"
     ]
    },
    {
     "data": {
      "text/plain": [
       "array([1.95567094])"
      ]
     },
     "execution_count": 10,
     "metadata": {},
     "output_type": "execute_result"
    }
   ],
   "source": [
    "guess = np.array([2])\n",
    "gnsolver = GaussNewtonSolver(fModel1, max_solver_iter=10, step = 1e-3, max_line_search_iter=5, verbose=True)\n",
    "gnsolver.fit(x0, y0, -5, guess, alpha = 0.1, beta=0.8)"
   ]
  },
  {
   "cell_type": "markdown",
   "metadata": {},
   "source": [
    "To take this a step further, we perform the Gauss-Newton algorithm multiple times with more data"
   ]
  },
  {
   "cell_type": "code",
   "execution_count": 12,
   "metadata": {},
   "outputs": [
    {
     "name": "stdout",
     "output_type": "stream",
     "text": [
      "Using GaussNewton solver\n"
     ]
    },
    {
     "name": "stderr",
     "output_type": "stream",
     "text": [
      "  0%|\u001b[32m          \u001b[0m| 0/10 [00:00<?, ?it/s]"
     ]
    },
    {
     "name": "stdout",
     "output_type": "stream",
     "text": [
      "Starting trial 1\n"
     ]
    },
    {
     "name": "stderr",
     "output_type": "stream",
     "text": []
    },
    {
     "name": "stdout",
     "output_type": "stream",
     "text": [
      "Max iteration reached for line search!\n",
      "The step size is -1.3107200000000006\n",
      "The descent direction is [0.02088798]\n",
      "After trial 1, parameters are [1.97262171] \n",
      "\n",
      "Starting trial 2\n"
     ]
    },
    {
     "name": "stderr",
     "output_type": "stream",
     "text": []
    },
    {
     "name": "stdout",
     "output_type": "stream",
     "text": [
      "Max iteration reached for line search!\n",
      "The step size is -0.3435973836800002\n",
      "The descent direction is [0.02956899]\n",
      "After trial 2, parameters are [1.96246188] \n",
      "\n",
      "Starting trial 3\n"
     ]
    },
    {
     "name": "stderr",
     "output_type": "stream",
     "text": []
    },
    {
     "name": "stdout",
     "output_type": "stream",
     "text": [
      "Max iteration reached for line search!\n",
      "The step size is -0.09007199254741001\n",
      "The descent direction is [0.0549487]\n",
      "After trial 3, parameters are [1.95751254] \n",
      "\n",
      "Starting trial 4\n"
     ]
    },
    {
     "name": "stderr",
     "output_type": "stream",
     "text": []
    },
    {
     "name": "stdout",
     "output_type": "stream",
     "text": [
      "Max iteration reached for line search!\n",
      "The step size is -0.023611832414348256\n",
      "The descent direction is [0.05767611]\n",
      "After trial 4, parameters are [1.9561507] \n",
      "\n",
      "Starting trial 5\n"
     ]
    },
    {
     "name": "stderr",
     "output_type": "stream",
     "text": []
    },
    {
     "name": "stdout",
     "output_type": "stream",
     "text": [
      "Max iteration reached for line search!\n",
      "The step size is -0.006189700196426911\n",
      "The descent direction is [0.05726285]\n",
      "After trial 5, parameters are [1.95579626] \n",
      "\n",
      "Starting trial 6\n"
     ]
    },
    {
     "name": "stderr",
     "output_type": "stream",
     "text": []
    },
    {
     "name": "stdout",
     "output_type": "stream",
     "text": [
      "Max iteration reached for line search!\n",
      "The step size is -0.0016225927682921367\n",
      "The descent direction is [0.0570758]\n",
      "After trial 6, parameters are [1.95570365] \n",
      "\n",
      "Starting trial 7\n"
     ]
    },
    {
     "name": "stderr",
     "output_type": "stream",
     "text": []
    },
    {
     "name": "stdout",
     "output_type": "stream",
     "text": [
      "Max iteration reached for line search!\n",
      "The step size is -0.000425352958651174\n",
      "The descent direction is [0.05702156]\n",
      "After trial 7, parameters are [1.9556794] \n",
      "\n",
      "Starting trial 8\n"
     ]
    },
    {
     "name": "stderr",
     "output_type": "stream",
     "text": []
    },
    {
     "name": "stdout",
     "output_type": "stream",
     "text": [
      "Max iteration reached for line search!\n",
      "The step size is -0.00011150372599265338\n",
      "The descent direction is [0.05700699]\n",
      "After trial 8, parameters are [1.95567304] \n",
      "\n",
      "Starting trial 9\n"
     ]
    },
    {
     "name": "stderr",
     "output_type": "stream",
     "text": []
    },
    {
     "name": "stdout",
     "output_type": "stream",
     "text": [
      "Max iteration reached for line search!\n",
      "The step size is -2.9230032746618137e-05\n",
      "The descent direction is [0.05700314]\n",
      "After trial 9, parameters are [1.95567137] \n",
      "\n",
      "Starting trial 10\n"
     ]
    },
    {
     "name": "stderr",
     "output_type": "stream",
     "text": [
      "100%|██████████| 10/10 [00:49<00:00,  4.92s/it]\n",
      " 10%|\u001b[32m█         \u001b[0m| 1/10 [00:49<07:22, 49.17s/it]"
     ]
    },
    {
     "name": "stdout",
     "output_type": "stream",
     "text": [
      "Max iteration reached for line search!\n",
      "The step size is -7.66247770432947e-06\n",
      "The descent direction is [0.05700213]\n",
      "After trial 10, parameters are [1.95567094] \n",
      "\n"
     ]
    },
    {
     "name": "stderr",
     "output_type": "stream",
     "text": []
    },
    {
     "name": "stdout",
     "output_type": "stream",
     "text": [
      "Starting trial 1\n"
     ]
    },
    {
     "name": "stderr",
     "output_type": "stream",
     "text": []
    },
    {
     "name": "stdout",
     "output_type": "stream",
     "text": [
      "Max iteration reached for line search!\n",
      "The step size is -1.3107200000000006\n",
      "The descent direction is [0.13505609]\n",
      "After trial 1, parameters are [1.77865022] \n",
      "\n",
      "Starting trial 2\n"
     ]
    },
    {
     "name": "stderr",
     "output_type": "stream",
     "text": []
    },
    {
     "name": "stdout",
     "output_type": "stream",
     "text": [
      "Max iteration reached for line search!\n",
      "The step size is -0.3435973836800002\n",
      "The descent direction is [0.15580361]\n",
      "After trial 2, parameters are [1.72511651] \n",
      "\n",
      "Starting trial 3\n"
     ]
    },
    {
     "name": "stderr",
     "output_type": "stream",
     "text": []
    },
    {
     "name": "stdout",
     "output_type": "stream",
     "text": [
      "Max iteration reached for line search!\n",
      "The step size is -0.09007199254741001\n",
      "The descent direction is [0.16981708]\n",
      "After trial 3, parameters are [1.70982074] \n",
      "\n",
      "Starting trial 4\n"
     ]
    },
    {
     "name": "stderr",
     "output_type": "stream",
     "text": []
    },
    {
     "name": "stdout",
     "output_type": "stream",
     "text": [
      "Max iteration reached for line search!\n",
      "The step size is -0.023611832414348256\n",
      "The descent direction is [0.16845796]\n",
      "After trial 4, parameters are [1.70584314] \n",
      "\n",
      "Starting trial 5\n"
     ]
    },
    {
     "name": "stderr",
     "output_type": "stream",
     "text": []
    },
    {
     "name": "stdout",
     "output_type": "stream",
     "text": [
      "Max iteration reached for line search!\n",
      "The step size is -0.006189700196426911\n",
      "The descent direction is [0.16787464]\n",
      "After trial 5, parameters are [1.70480405] \n",
      "\n",
      "Starting trial 6\n"
     ]
    },
    {
     "name": "stderr",
     "output_type": "stream",
     "text": []
    },
    {
     "name": "stdout",
     "output_type": "stream",
     "text": [
      "Max iteration reached for line search!\n",
      "The step size is -0.0016225927682921367\n",
      "The descent direction is [0.16770851]\n",
      "After trial 6, parameters are [1.70453193] \n",
      "\n",
      "Starting trial 7\n"
     ]
    },
    {
     "name": "stderr",
     "output_type": "stream",
     "text": []
    },
    {
     "name": "stdout",
     "output_type": "stream",
     "text": [
      "Max iteration reached for line search!\n",
      "The step size is -0.000425352958651174\n",
      "The descent direction is [0.16766409]\n",
      "After trial 7, parameters are [1.70446061] \n",
      "\n",
      "Starting trial 8\n"
     ]
    },
    {
     "name": "stderr",
     "output_type": "stream",
     "text": []
    },
    {
     "name": "stdout",
     "output_type": "stream",
     "text": [
      "Max iteration reached for line search!\n",
      "The step size is -0.00011150372599265338\n",
      "The descent direction is [0.16765239]\n",
      "After trial 8, parameters are [1.70444192] \n",
      "\n",
      "Starting trial 9\n"
     ]
    },
    {
     "name": "stderr",
     "output_type": "stream",
     "text": []
    },
    {
     "name": "stdout",
     "output_type": "stream",
     "text": [
      "Max iteration reached for line search!\n",
      "The step size is -2.9230032746618137e-05\n",
      "The descent direction is [0.16764931]\n",
      "After trial 9, parameters are [1.70443701] \n",
      "\n",
      "Starting trial 10\n"
     ]
    },
    {
     "name": "stderr",
     "output_type": "stream",
     "text": [
      "100%|██████████| 10/10 [00:49<00:00,  4.91s/it]\n",
      " 20%|\u001b[32m██        \u001b[0m| 2/10 [01:38<06:33, 49.13s/it]"
     ]
    },
    {
     "name": "stdout",
     "output_type": "stream",
     "text": [
      "Max iteration reached for line search!\n",
      "The step size is -7.66247770432947e-06\n",
      "The descent direction is [0.16764851]\n",
      "After trial 10, parameters are [1.70443573] \n",
      "\n"
     ]
    },
    {
     "name": "stderr",
     "output_type": "stream",
     "text": []
    },
    {
     "name": "stdout",
     "output_type": "stream",
     "text": [
      "Starting trial 1\n"
     ]
    },
    {
     "name": "stderr",
     "output_type": "stream",
     "text": []
    },
    {
     "name": "stdout",
     "output_type": "stream",
     "text": [
      "The step size is -5\n",
      "The descent direction is [0.08699822]\n",
      "After trial 1, parameters are [1.26944461] \n",
      "\n",
      "Starting trial 2\n"
     ]
    },
    {
     "name": "stderr",
     "output_type": "stream",
     "text": []
    },
    {
     "name": "stdout",
     "output_type": "stream",
     "text": [
      "Max iteration reached for line search!\n",
      "The step size is -1.3107200000000006\n",
      "The descent direction is [0.05573128]\n",
      "After trial 2, parameters are [1.1963965] \n",
      "\n",
      "Starting trial 3\n"
     ]
    },
    {
     "name": "stderr",
     "output_type": "stream",
     "text": []
    },
    {
     "name": "stdout",
     "output_type": "stream",
     "text": [
      "Max iteration reached for line search!\n",
      "The step size is -0.3435973836800002\n",
      "The descent direction is [0.06276401]\n",
      "After trial 3, parameters are [1.17483095] \n",
      "\n",
      "Starting trial 4\n"
     ]
    },
    {
     "name": "stderr",
     "output_type": "stream",
     "text": []
    },
    {
     "name": "stdout",
     "output_type": "stream",
     "text": [
      "Max iteration reached for line search!\n",
      "The step size is -0.09007199254741001\n",
      "The descent direction is [0.00364528]\n",
      "After trial 4, parameters are [1.17450262] \n",
      "\n",
      "Starting trial 5\n"
     ]
    },
    {
     "name": "stderr",
     "output_type": "stream",
     "text": []
    },
    {
     "name": "stdout",
     "output_type": "stream",
     "text": [
      "Max iteration reached for line search!\n",
      "The step size is -0.023611832414348256\n",
      "The descent direction is [0.00286179]\n",
      "After trial 5, parameters are [1.17443504] \n",
      "\n",
      "Starting trial 6\n"
     ]
    },
    {
     "name": "stderr",
     "output_type": "stream",
     "text": []
    },
    {
     "name": "stdout",
     "output_type": "stream",
     "text": [
      "Max iteration reached for line search!\n",
      "The step size is -0.006189700196426911\n",
      "The descent direction is [0.00270279]\n",
      "After trial 6, parameters are [1.17441831] \n",
      "\n",
      "Starting trial 7\n"
     ]
    },
    {
     "name": "stderr",
     "output_type": "stream",
     "text": []
    },
    {
     "name": "stdout",
     "output_type": "stream",
     "text": [
      "Max iteration reached for line search!\n",
      "The step size is -0.0016225927682921367\n",
      "The descent direction is [0.00266353]\n",
      "After trial 7, parameters are [1.17441399] \n",
      "\n",
      "Starting trial 8\n"
     ]
    },
    {
     "name": "stderr",
     "output_type": "stream",
     "text": []
    },
    {
     "name": "stdout",
     "output_type": "stream",
     "text": [
      "Max iteration reached for line search!\n",
      "The step size is -0.000425352958651174\n",
      "The descent direction is [0.00265339]\n",
      "After trial 8, parameters are [1.17441286] \n",
      "\n",
      "Starting trial 9\n"
     ]
    },
    {
     "name": "stderr",
     "output_type": "stream",
     "text": []
    },
    {
     "name": "stdout",
     "output_type": "stream",
     "text": [
      "Max iteration reached for line search!\n",
      "The step size is -0.00011150372599265338\n",
      "The descent direction is [0.00265074]\n",
      "After trial 9, parameters are [1.17441257] \n",
      "\n",
      "Starting trial 10\n"
     ]
    },
    {
     "name": "stderr",
     "output_type": "stream",
     "text": [
      "100%|██████████| 10/10 [00:45<00:00,  4.54s/it]\n",
      " 30%|\u001b[32m███       \u001b[0m| 3/10 [02:23<05:32, 47.45s/it]"
     ]
    },
    {
     "name": "stdout",
     "output_type": "stream",
     "text": [
      "Max iteration reached for line search!\n",
      "The step size is -2.9230032746618137e-05\n",
      "The descent direction is [0.00265005]\n",
      "After trial 10, parameters are [1.17441249] \n",
      "\n"
     ]
    },
    {
     "name": "stderr",
     "output_type": "stream",
     "text": []
    },
    {
     "name": "stdout",
     "output_type": "stream",
     "text": [
      "Starting trial 1\n"
     ]
    },
    {
     "name": "stderr",
     "output_type": "stream",
     "text": []
    },
    {
     "name": "stdout",
     "output_type": "stream",
     "text": [
      "Max iteration reached for line search!\n",
      "The step size is -1.3107200000000006\n",
      "The descent direction is [0.09832856]\n",
      "After trial 1, parameters are [1.04553129] \n",
      "\n",
      "Starting trial 2\n"
     ]
    },
    {
     "name": "stderr",
     "output_type": "stream",
     "text": []
    },
    {
     "name": "stdout",
     "output_type": "stream",
     "text": [
      "Max iteration reached for line search!\n",
      "The step size is -0.3435973836800002\n",
      "The descent direction is [0.03533268]\n",
      "After trial 2, parameters are [1.03339107] \n",
      "\n",
      "Starting trial 3\n"
     ]
    },
    {
     "name": "stderr",
     "output_type": "stream",
     "text": []
    },
    {
     "name": "stdout",
     "output_type": "stream",
     "text": [
      "Max iteration reached for line search!\n",
      "The step size is -0.09007199254741001\n",
      "The descent direction is [0.0305515]\n",
      "After trial 3, parameters are [1.03063924] \n",
      "\n",
      "Starting trial 4\n"
     ]
    },
    {
     "name": "stderr",
     "output_type": "stream",
     "text": []
    },
    {
     "name": "stdout",
     "output_type": "stream",
     "text": [
      "Max iteration reached for line search!\n",
      "The step size is -0.023611832414348256\n",
      "The descent direction is [0.02870258]\n",
      "After trial 4, parameters are [1.02996152] \n",
      "\n",
      "Starting trial 5\n"
     ]
    },
    {
     "name": "stderr",
     "output_type": "stream",
     "text": []
    },
    {
     "name": "stdout",
     "output_type": "stream",
     "text": [
      "Max iteration reached for line search!\n",
      "The step size is -0.006189700196426911\n",
      "The descent direction is [0.02821037]\n",
      "After trial 5, parameters are [1.0297869] \n",
      "\n",
      "Starting trial 6\n"
     ]
    },
    {
     "name": "stderr",
     "output_type": "stream",
     "text": []
    },
    {
     "name": "stdout",
     "output_type": "stream",
     "text": [
      "Max iteration reached for line search!\n",
      "The step size is -0.0016225927682921367\n",
      "The descent direction is [0.02808137]\n",
      "After trial 6, parameters are [1.02974134] \n",
      "\n",
      "Starting trial 7\n"
     ]
    },
    {
     "name": "stderr",
     "output_type": "stream",
     "text": []
    },
    {
     "name": "stdout",
     "output_type": "stream",
     "text": [
      "Max iteration reached for line search!\n",
      "The step size is -0.000425352958651174\n",
      "The descent direction is [0.02804756]\n",
      "After trial 7, parameters are [1.02972941] \n",
      "\n",
      "Starting trial 8\n"
     ]
    },
    {
     "name": "stderr",
     "output_type": "stream",
     "text": []
    },
    {
     "name": "stdout",
     "output_type": "stream",
     "text": [
      "Max iteration reached for line search!\n",
      "The step size is -0.00011150372599265338\n",
      "The descent direction is [0.02803869]\n",
      "After trial 8, parameters are [1.02972628] \n",
      "\n",
      "Starting trial 9\n"
     ]
    },
    {
     "name": "stderr",
     "output_type": "stream",
     "text": []
    },
    {
     "name": "stdout",
     "output_type": "stream",
     "text": [
      "Max iteration reached for line search!\n",
      "The step size is -2.9230032746618137e-05\n",
      "The descent direction is [0.02803637]\n",
      "After trial 9, parameters are [1.02972546] \n",
      "\n",
      "Starting trial 10\n"
     ]
    },
    {
     "name": "stderr",
     "output_type": "stream",
     "text": [
      "100%|██████████| 10/10 [00:49<00:00,  4.92s/it]\n",
      " 40%|\u001b[32m████      \u001b[0m| 4/10 [03:12<04:48, 48.13s/it]"
     ]
    },
    {
     "name": "stdout",
     "output_type": "stream",
     "text": [
      "Max iteration reached for line search!\n",
      "The step size is -7.66247770432947e-06\n",
      "The descent direction is [0.02803576]\n",
      "After trial 10, parameters are [1.02972525] \n",
      "\n"
     ]
    },
    {
     "name": "stderr",
     "output_type": "stream",
     "text": []
    },
    {
     "name": "stdout",
     "output_type": "stream",
     "text": [
      "Starting trial 1\n"
     ]
    },
    {
     "name": "stderr",
     "output_type": "stream",
     "text": []
    },
    {
     "name": "stdout",
     "output_type": "stream",
     "text": [
      "Max iteration reached for line search!\n",
      "The step size is -1.3107200000000006\n",
      "The descent direction is [0.03016228]\n",
      "After trial 1, parameters are [0.99019094] \n",
      "\n",
      "Starting trial 2\n"
     ]
    },
    {
     "name": "stderr",
     "output_type": "stream",
     "text": []
    },
    {
     "name": "stdout",
     "output_type": "stream",
     "text": [
      "Max iteration reached for line search!\n",
      "The step size is -0.3435973836800002\n",
      "The descent direction is [-0.0097265]\n",
      "After trial 2, parameters are [0.99353294] \n",
      "\n",
      "Starting trial 3\n"
     ]
    },
    {
     "name": "stderr",
     "output_type": "stream",
     "text": []
    },
    {
     "name": "stdout",
     "output_type": "stream",
     "text": [
      "Max iteration reached for line search!\n",
      "The step size is -0.09007199254741001\n",
      "The descent direction is [-0.00643252]\n",
      "After trial 3, parameters are [0.99411233] \n",
      "\n",
      "Starting trial 4\n"
     ]
    },
    {
     "name": "stderr",
     "output_type": "stream",
     "text": []
    },
    {
     "name": "stdout",
     "output_type": "stream",
     "text": [
      "Max iteration reached for line search!\n",
      "The step size is -0.023611832414348256\n",
      "The descent direction is [-0.00585924]\n",
      "After trial 4, parameters are [0.99425068] \n",
      "\n",
      "Starting trial 5\n"
     ]
    },
    {
     "name": "stderr",
     "output_type": "stream",
     "text": []
    },
    {
     "name": "stdout",
     "output_type": "stream",
     "text": [
      "Max iteration reached for line search!\n",
      "The step size is -0.006189700196426911\n",
      "The descent direction is [-0.00572225]\n",
      "After trial 5, parameters are [0.9942861] \n",
      "\n",
      "Starting trial 6\n"
     ]
    },
    {
     "name": "stderr",
     "output_type": "stream",
     "text": []
    },
    {
     "name": "stdout",
     "output_type": "stream",
     "text": [
      "Max iteration reached for line search!\n",
      "The step size is -0.0016225927682921367\n",
      "The descent direction is [-0.00568718]\n",
      "After trial 6, parameters are [0.99429533] \n",
      "\n",
      "Starting trial 7\n"
     ]
    },
    {
     "name": "stderr",
     "output_type": "stream",
     "text": []
    },
    {
     "name": "stdout",
     "output_type": "stream",
     "text": [
      "Max iteration reached for line search!\n",
      "The step size is -0.000425352958651174\n",
      "The descent direction is [-0.00567804]\n",
      "After trial 7, parameters are [0.99429774] \n",
      "\n",
      "Starting trial 8\n"
     ]
    },
    {
     "name": "stderr",
     "output_type": "stream",
     "text": []
    },
    {
     "name": "stdout",
     "output_type": "stream",
     "text": [
      "Max iteration reached for line search!\n",
      "The step size is -0.00011150372599265338\n",
      "The descent direction is [-0.00567565]\n",
      "After trial 8, parameters are [0.99429837] \n",
      "\n",
      "Starting trial 9\n"
     ]
    },
    {
     "name": "stderr",
     "output_type": "stream",
     "text": []
    },
    {
     "name": "stdout",
     "output_type": "stream",
     "text": [
      "Max iteration reached for line search!\n",
      "The step size is -2.9230032746618137e-05\n",
      "The descent direction is [-0.00567502]\n",
      "After trial 9, parameters are [0.99429854] \n",
      "\n",
      "Starting trial 10\n"
     ]
    },
    {
     "name": "stderr",
     "output_type": "stream",
     "text": [
      "100%|██████████| 10/10 [00:49<00:00,  4.91s/it]\n",
      " 50%|\u001b[32m█████     \u001b[0m| 5/10 [04:01<04:02, 48.46s/it]"
     ]
    },
    {
     "name": "stdout",
     "output_type": "stream",
     "text": [
      "Max iteration reached for line search!\n",
      "The step size is -7.66247770432947e-06\n",
      "The descent direction is [-0.00567486]\n",
      "After trial 10, parameters are [0.99429858] \n",
      "\n"
     ]
    },
    {
     "name": "stderr",
     "output_type": "stream",
     "text": []
    },
    {
     "name": "stdout",
     "output_type": "stream",
     "text": [
      "Starting trial 1\n"
     ]
    },
    {
     "name": "stderr",
     "output_type": "stream",
     "text": []
    },
    {
     "name": "stdout",
     "output_type": "stream",
     "text": [
      "Max iteration reached for line search!\n",
      "The step size is -1.3107200000000006\n",
      "The descent direction is [-0.00566299]\n",
      "After trial 1, parameters are [1.00172118] \n",
      "\n",
      "Starting trial 2\n"
     ]
    },
    {
     "name": "stderr",
     "output_type": "stream",
     "text": []
    },
    {
     "name": "stdout",
     "output_type": "stream",
     "text": [
      "Max iteration reached for line search!\n",
      "The step size is -0.3435973836800002\n",
      "The descent direction is [0.00172586]\n",
      "After trial 2, parameters are [1.00112817] \n",
      "\n",
      "Starting trial 3\n"
     ]
    },
    {
     "name": "stderr",
     "output_type": "stream",
     "text": []
    },
    {
     "name": "stdout",
     "output_type": "stream",
     "text": [
      "Max iteration reached for line search!\n",
      "The step size is -0.09007199254741001\n",
      "The descent direction is [0.00113017]\n",
      "After trial 3, parameters are [1.00102638] \n",
      "\n",
      "Starting trial 4\n"
     ]
    },
    {
     "name": "stderr",
     "output_type": "stream",
     "text": []
    },
    {
     "name": "stdout",
     "output_type": "stream",
     "text": [
      "Max iteration reached for line search!\n",
      "The step size is -0.023611832414348256\n",
      "The descent direction is [0.00102803]\n",
      "After trial 4, parameters are [1.0010021] \n",
      "\n",
      "Starting trial 5\n"
     ]
    },
    {
     "name": "stderr",
     "output_type": "stream",
     "text": []
    },
    {
     "name": "stdout",
     "output_type": "stream",
     "text": [
      "Max iteration reached for line search!\n",
      "The step size is -0.006189700196426911\n",
      "The descent direction is [0.00100368]\n",
      "After trial 5, parameters are [1.00099589] \n",
      "\n",
      "Starting trial 6\n"
     ]
    },
    {
     "name": "stderr",
     "output_type": "stream",
     "text": []
    },
    {
     "name": "stdout",
     "output_type": "stream",
     "text": [
      "Max iteration reached for line search!\n",
      "The step size is -0.0016225927682921367\n",
      "The descent direction is [0.00099745]\n",
      "After trial 6, parameters are [1.00099427] \n",
      "\n",
      "Starting trial 7\n"
     ]
    },
    {
     "name": "stderr",
     "output_type": "stream",
     "text": []
    },
    {
     "name": "stdout",
     "output_type": "stream",
     "text": [
      "Max iteration reached for line search!\n",
      "The step size is -0.000425352958651174\n",
      "The descent direction is [0.00099582]\n",
      "After trial 7, parameters are [1.00099385] \n",
      "\n",
      "Starting trial 8\n"
     ]
    },
    {
     "name": "stderr",
     "output_type": "stream",
     "text": []
    },
    {
     "name": "stdout",
     "output_type": "stream",
     "text": [
      "Max iteration reached for line search!\n",
      "The step size is -0.00011150372599265338\n",
      "The descent direction is [0.0009954]\n",
      "After trial 8, parameters are [1.00099374] \n",
      "\n",
      "Starting trial 9\n"
     ]
    },
    {
     "name": "stderr",
     "output_type": "stream",
     "text": []
    },
    {
     "name": "stdout",
     "output_type": "stream",
     "text": [
      "Max iteration reached for line search!\n",
      "The step size is -2.9230032746618137e-05\n",
      "The descent direction is [0.00099529]\n",
      "After trial 9, parameters are [1.00099371] \n",
      "\n",
      "Starting trial 10\n"
     ]
    },
    {
     "name": "stderr",
     "output_type": "stream",
     "text": [
      "100%|██████████| 10/10 [00:49<00:00,  4.90s/it]\n",
      " 60%|\u001b[32m██████    \u001b[0m| 6/10 [04:50<03:14, 48.66s/it]"
     ]
    },
    {
     "name": "stdout",
     "output_type": "stream",
     "text": [
      "Max iteration reached for line search!\n",
      "The step size is -7.66247770432947e-06\n",
      "The descent direction is [0.00099526]\n",
      "After trial 10, parameters are [1.0009937] \n",
      "\n"
     ]
    },
    {
     "name": "stderr",
     "output_type": "stream",
     "text": []
    },
    {
     "name": "stdout",
     "output_type": "stream",
     "text": [
      "Starting trial 1\n"
     ]
    },
    {
     "name": "stderr",
     "output_type": "stream",
     "text": []
    },
    {
     "name": "stdout",
     "output_type": "stream",
     "text": [
      "Max iteration reached for line search!\n",
      "The step size is -1.3107200000000006\n",
      "The descent direction is [0.00099567]\n",
      "After trial 1, parameters are [0.99968866] \n",
      "\n",
      "Starting trial 2\n"
     ]
    },
    {
     "name": "stderr",
     "output_type": "stream",
     "text": []
    },
    {
     "name": "stdout",
     "output_type": "stream",
     "text": [
      "Max iteration reached for line search!\n",
      "The step size is -0.3435973836800002\n",
      "The descent direction is [-0.00031116]\n",
      "After trial 2, parameters are [0.99979557] \n",
      "\n",
      "Starting trial 3\n"
     ]
    },
    {
     "name": "stderr",
     "output_type": "stream",
     "text": []
    },
    {
     "name": "stdout",
     "output_type": "stream",
     "text": [
      "Max iteration reached for line search!\n",
      "The step size is -0.09007199254741001\n",
      "The descent direction is [-0.00020436]\n",
      "After trial 3, parameters are [0.99981398] \n",
      "\n",
      "Starting trial 4\n"
     ]
    },
    {
     "name": "stderr",
     "output_type": "stream",
     "text": []
    },
    {
     "name": "stdout",
     "output_type": "stream",
     "text": [
      "Max iteration reached for line search!\n",
      "The step size is -0.023611832414348256\n",
      "The descent direction is [-0.00018597]\n",
      "After trial 4, parameters are [0.99981837] \n",
      "\n",
      "Starting trial 5\n"
     ]
    },
    {
     "name": "stderr",
     "output_type": "stream",
     "text": []
    },
    {
     "name": "stdout",
     "output_type": "stream",
     "text": [
      "Max iteration reached for line search!\n",
      "The step size is -0.006189700196426911\n",
      "The descent direction is [-0.00018158]\n",
      "After trial 5, parameters are [0.99981949] \n",
      "\n",
      "Starting trial 6\n"
     ]
    },
    {
     "name": "stderr",
     "output_type": "stream",
     "text": []
    },
    {
     "name": "stdout",
     "output_type": "stream",
     "text": [
      "Max iteration reached for line search!\n",
      "The step size is -0.0016225927682921367\n",
      "The descent direction is [-0.00018046]\n",
      "After trial 6, parameters are [0.99981978] \n",
      "\n",
      "Starting trial 7\n"
     ]
    },
    {
     "name": "stderr",
     "output_type": "stream",
     "text": []
    },
    {
     "name": "stdout",
     "output_type": "stream",
     "text": [
      "Max iteration reached for line search!\n",
      "The step size is -0.000425352958651174\n",
      "The descent direction is [-0.00018016]\n",
      "After trial 7, parameters are [0.99981986] \n",
      "\n",
      "Starting trial 8\n"
     ]
    },
    {
     "name": "stderr",
     "output_type": "stream",
     "text": []
    },
    {
     "name": "stdout",
     "output_type": "stream",
     "text": [
      "Max iteration reached for line search!\n",
      "The step size is -0.00011150372599265338\n",
      "The descent direction is [-0.00018009]\n",
      "After trial 8, parameters are [0.99981988] \n",
      "\n",
      "Starting trial 9\n"
     ]
    },
    {
     "name": "stderr",
     "output_type": "stream",
     "text": []
    },
    {
     "name": "stdout",
     "output_type": "stream",
     "text": [
      "Max iteration reached for line search!\n",
      "The step size is -2.9230032746618137e-05\n",
      "The descent direction is [-0.00018007]\n",
      "After trial 9, parameters are [0.99981989] \n",
      "\n",
      "Starting trial 10\n"
     ]
    },
    {
     "name": "stderr",
     "output_type": "stream",
     "text": [
      "100%|██████████| 10/10 [00:49<00:00,  4.91s/it]\n",
      " 70%|\u001b[32m███████   \u001b[0m| 7/10 [05:40<02:26, 48.81s/it]"
     ]
    },
    {
     "name": "stdout",
     "output_type": "stream",
     "text": [
      "Max iteration reached for line search!\n",
      "The step size is -7.66247770432947e-06\n",
      "The descent direction is [-0.00018006]\n",
      "After trial 10, parameters are [0.99981989] \n",
      "\n"
     ]
    },
    {
     "name": "stderr",
     "output_type": "stream",
     "text": []
    },
    {
     "name": "stdout",
     "output_type": "stream",
     "text": [
      "Starting trial 1\n"
     ]
    },
    {
     "name": "stderr",
     "output_type": "stream",
     "text": []
    },
    {
     "name": "stdout",
     "output_type": "stream",
     "text": [
      "Max iteration reached for line search!\n",
      "The step size is -1.3107200000000006\n",
      "The descent direction is [-0.00012958]\n",
      "After trial 1, parameters are [0.99998974] \n",
      "\n",
      "Starting trial 2\n"
     ]
    },
    {
     "name": "stderr",
     "output_type": "stream",
     "text": []
    },
    {
     "name": "stdout",
     "output_type": "stream",
     "text": [
      "Max iteration reached for line search!\n",
      "The step size is -0.3435973836800002\n",
      "The descent direction is [-2.38544688e-05]\n",
      "After trial 2, parameters are [0.99999793] \n",
      "\n",
      "Starting trial 3\n"
     ]
    },
    {
     "name": "stderr",
     "output_type": "stream",
     "text": []
    },
    {
     "name": "stdout",
     "output_type": "stream",
     "text": [
      "Max iteration reached for line search!\n",
      "The step size is -0.09007199254741001\n",
      "The descent direction is [5.6970397e-07]\n",
      "After trial 3, parameters are [0.99999788] \n",
      "\n",
      "Starting trial 4\n"
     ]
    },
    {
     "name": "stderr",
     "output_type": "stream",
     "text": []
    },
    {
     "name": "stdout",
     "output_type": "stream",
     "text": [
      "Max iteration reached for line search!\n",
      "The step size is -0.023611832414348256\n",
      "The descent direction is [5.07388022e-07]\n",
      "After trial 4, parameters are [0.99999787] \n",
      "\n",
      "Starting trial 5\n"
     ]
    },
    {
     "name": "stderr",
     "output_type": "stream",
     "text": []
    },
    {
     "name": "stdout",
     "output_type": "stream",
     "text": [
      "Max iteration reached for line search!\n",
      "The step size is -0.006189700196426911\n",
      "The descent direction is [5.01378092e-07]\n",
      "After trial 5, parameters are [0.99999786] \n",
      "\n",
      "Starting trial 6\n"
     ]
    },
    {
     "name": "stderr",
     "output_type": "stream",
     "text": []
    },
    {
     "name": "stdout",
     "output_type": "stream",
     "text": [
      "Max iteration reached for line search!\n",
      "The step size is -0.0016225927682921367\n",
      "The descent direction is [5.01191826e-07]\n",
      "After trial 6, parameters are [0.99999786] \n",
      "\n",
      "Starting trial 7\n"
     ]
    },
    {
     "name": "stderr",
     "output_type": "stream",
     "text": []
    },
    {
     "name": "stdout",
     "output_type": "stream",
     "text": [
      "Max iteration reached for line search!\n",
      "The step size is -0.000425352958651174\n",
      "The descent direction is [5.012261e-07]\n",
      "After trial 7, parameters are [0.99999786] \n",
      "\n",
      "Starting trial 8\n"
     ]
    },
    {
     "name": "stderr",
     "output_type": "stream",
     "text": []
    },
    {
     "name": "stdout",
     "output_type": "stream",
     "text": [
      "Max iteration reached for line search!\n",
      "The step size is -0.00011150372599265338\n",
      "The descent direction is [5.01239923e-07]\n",
      "After trial 8, parameters are [0.99999786] \n",
      "\n",
      "Starting trial 9\n"
     ]
    },
    {
     "name": "stderr",
     "output_type": "stream",
     "text": []
    },
    {
     "name": "stdout",
     "output_type": "stream",
     "text": [
      "Max iteration reached for line search!\n",
      "The step size is -2.9230032746618137e-05\n",
      "The descent direction is [5.01243807e-07]\n",
      "After trial 9, parameters are [0.99999786] \n",
      "\n",
      "Starting trial 10\n"
     ]
    },
    {
     "name": "stderr",
     "output_type": "stream",
     "text": [
      "100%|██████████| 10/10 [00:49<00:00,  4.91s/it]\n",
      " 80%|\u001b[32m████████  \u001b[0m| 8/10 [06:29<01:37, 48.91s/it]"
     ]
    },
    {
     "name": "stdout",
     "output_type": "stream",
     "text": [
      "Max iteration reached for line search!\n",
      "The step size is -7.66247770432947e-06\n",
      "The descent direction is [5.01244493e-07]\n",
      "After trial 10, parameters are [0.99999786] \n",
      "\n"
     ]
    },
    {
     "name": "stderr",
     "output_type": "stream",
     "text": []
    },
    {
     "name": "stdout",
     "output_type": "stream",
     "text": [
      "Starting trial 1\n"
     ]
    },
    {
     "name": "stderr",
     "output_type": "stream",
     "text": []
    },
    {
     "name": "stdout",
     "output_type": "stream",
     "text": [
      "Max iteration reached for line search!\n",
      "The step size is -1.3107200000000006\n",
      "The descent direction is [-2.13614263e-06]\n",
      "After trial 1, parameters are [1.00000066] \n",
      "\n",
      "Starting trial 2\n"
     ]
    },
    {
     "name": "stderr",
     "output_type": "stream",
     "text": []
    },
    {
     "name": "stdout",
     "output_type": "stream",
     "text": [
      "Max iteration reached for line search!\n",
      "The step size is -0.3435973836800002\n",
      "The descent direction is [6.63765342e-07]\n",
      "After trial 2, parameters are [1.00000044] \n",
      "\n",
      "Starting trial 3\n"
     ]
    },
    {
     "name": "stderr",
     "output_type": "stream",
     "text": []
    },
    {
     "name": "stdout",
     "output_type": "stream",
     "text": [
      "Max iteration reached for line search!\n",
      "The step size is -0.09007199254741001\n",
      "The descent direction is [4.3569499e-07]\n",
      "After trial 3, parameters are [1.0000004] \n",
      "\n",
      "Starting trial 4\n"
     ]
    },
    {
     "name": "stderr",
     "output_type": "stream",
     "text": []
    },
    {
     "name": "stdout",
     "output_type": "stream",
     "text": [
      "Max iteration reached for line search!\n",
      "The step size is -0.023611832414348256\n",
      "The descent direction is [3.96450683e-07]\n",
      "After trial 4, parameters are [1.00000039] \n",
      "\n",
      "Starting trial 5\n"
     ]
    },
    {
     "name": "stderr",
     "output_type": "stream",
     "text": []
    },
    {
     "name": "stdout",
     "output_type": "stream",
     "text": [
      "Max iteration reached for line search!\n",
      "The step size is -0.006189700196426911\n",
      "The descent direction is [3.87089664e-07]\n",
      "After trial 5, parameters are [1.00000038] \n",
      "\n",
      "Starting trial 6\n"
     ]
    },
    {
     "name": "stderr",
     "output_type": "stream",
     "text": []
    },
    {
     "name": "stdout",
     "output_type": "stream",
     "text": [
      "Max iteration reached for line search!\n",
      "The step size is -0.0016225927682921367\n",
      "The descent direction is [3.84693671e-07]\n",
      "After trial 6, parameters are [1.00000038] \n",
      "\n",
      "Starting trial 7\n"
     ]
    },
    {
     "name": "stderr",
     "output_type": "stream",
     "text": []
    },
    {
     "name": "stdout",
     "output_type": "stream",
     "text": [
      "Max iteration reached for line search!\n",
      "The step size is -0.000425352958651174\n",
      "The descent direction is [3.84069463e-07]\n",
      "After trial 7, parameters are [1.00000038] \n",
      "\n",
      "Starting trial 8\n"
     ]
    },
    {
     "name": "stderr",
     "output_type": "stream",
     "text": []
    },
    {
     "name": "stdout",
     "output_type": "stream",
     "text": [
      "Max iteration reached for line search!\n",
      "The step size is -0.00011150372599265338\n",
      "The descent direction is [3.83906097e-07]\n",
      "After trial 8, parameters are [1.00000038] \n",
      "\n",
      "Starting trial 9\n"
     ]
    },
    {
     "name": "stderr",
     "output_type": "stream",
     "text": []
    },
    {
     "name": "stdout",
     "output_type": "stream",
     "text": [
      "Max iteration reached for line search!\n",
      "The step size is -2.9230032746618137e-05\n",
      "The descent direction is [3.8386329e-07]\n",
      "After trial 9, parameters are [1.00000038] \n",
      "\n",
      "Starting trial 10\n"
     ]
    },
    {
     "name": "stderr",
     "output_type": "stream",
     "text": [
      "100%|██████████| 10/10 [00:49<00:00,  4.93s/it]\n",
      " 90%|\u001b[32m█████████ \u001b[0m| 9/10 [07:18<00:49, 49.03s/it]"
     ]
    },
    {
     "name": "stdout",
     "output_type": "stream",
     "text": [
      "Max iteration reached for line search!\n",
      "The step size is -7.66247770432947e-06\n",
      "The descent direction is [3.8385207e-07]\n",
      "After trial 10, parameters are [1.00000038] \n",
      "\n"
     ]
    },
    {
     "name": "stderr",
     "output_type": "stream",
     "text": []
    },
    {
     "name": "stdout",
     "output_type": "stream",
     "text": [
      "Starting trial 1\n"
     ]
    },
    {
     "name": "stderr",
     "output_type": "stream",
     "text": []
    },
    {
     "name": "stdout",
     "output_type": "stream",
     "text": [
      "Max iteration reached for line search!\n",
      "The step size is -1.3107200000000006\n",
      "The descent direction is [3.83849322e-07]\n",
      "After trial 1, parameters are [0.99999988] \n",
      "\n",
      "Starting trial 2\n"
     ]
    },
    {
     "name": "stderr",
     "output_type": "stream",
     "text": []
    },
    {
     "name": "stdout",
     "output_type": "stream",
     "text": [
      "Max iteration reached for line search!\n",
      "The step size is -0.3435973836800002\n",
      "The descent direction is [-1.1927478e-07]\n",
      "After trial 2, parameters are [0.99999992] \n",
      "\n",
      "Starting trial 3\n"
     ]
    },
    {
     "name": "stderr",
     "output_type": "stream",
     "text": []
    },
    {
     "name": "stdout",
     "output_type": "stream",
     "text": [
      "Max iteration reached for line search!\n",
      "The step size is -0.09007199254741001\n",
      "The descent direction is [-7.82918549e-08]\n",
      "After trial 3, parameters are [0.99999993] \n",
      "\n",
      "Starting trial 4\n"
     ]
    },
    {
     "name": "stderr",
     "output_type": "stream",
     "text": []
    },
    {
     "name": "stdout",
     "output_type": "stream",
     "text": [
      "Max iteration reached for line search!\n",
      "The step size is -0.023611832414348256\n",
      "The descent direction is [-7.12398614e-08]\n",
      "After trial 4, parameters are [0.99999993] \n",
      "\n",
      "Starting trial 5\n"
     ]
    },
    {
     "name": "stderr",
     "output_type": "stream",
     "text": []
    },
    {
     "name": "stdout",
     "output_type": "stream",
     "text": [
      "Max iteration reached for line search!\n",
      "The step size is -0.006189700196426911\n",
      "The descent direction is [-6.95577409e-08]\n",
      "After trial 5, parameters are [0.99999993] \n",
      "\n",
      "Starting trial 6\n"
     ]
    },
    {
     "name": "stderr",
     "output_type": "stream",
     "text": []
    },
    {
     "name": "stdout",
     "output_type": "stream",
     "text": [
      "Max iteration reached for line search!\n",
      "The step size is -0.0016225927682921367\n",
      "The descent direction is [-6.91272035e-08]\n",
      "After trial 6, parameters are [0.99999993] \n",
      "\n",
      "Starting trial 7\n"
     ]
    },
    {
     "name": "stderr",
     "output_type": "stream",
     "text": []
    },
    {
     "name": "stdout",
     "output_type": "stream",
     "text": [
      "Max iteration reached for line search!\n",
      "The step size is -0.000425352958651174\n",
      "The descent direction is [-6.9015032e-08]\n",
      "After trial 7, parameters are [0.99999993] \n",
      "\n",
      "Starting trial 8\n"
     ]
    },
    {
     "name": "stderr",
     "output_type": "stream",
     "text": []
    },
    {
     "name": "stdout",
     "output_type": "stream",
     "text": [
      "Max iteration reached for line search!\n",
      "The step size is -0.00011150372599265338\n",
      "The descent direction is [-6.89856847e-08]\n",
      "After trial 8, parameters are [0.99999993] \n",
      "\n",
      "Starting trial 9\n"
     ]
    },
    {
     "name": "stderr",
     "output_type": "stream",
     "text": []
    },
    {
     "name": "stdout",
     "output_type": "stream",
     "text": [
      "Max iteration reached for line search!\n",
      "The step size is -2.9230032746618137e-05\n",
      "The descent direction is [-6.8977991e-08]\n",
      "After trial 9, parameters are [0.99999993] \n",
      "\n",
      "Starting trial 10\n"
     ]
    },
    {
     "name": "stderr",
     "output_type": "stream",
     "text": [
      "100%|██████████| 10/10 [00:49<00:00,  4.92s/it]\n",
      "100%|\u001b[32m██████████\u001b[0m| 10/10 [08:07<00:00, 48.78s/it]"
     ]
    },
    {
     "name": "stdout",
     "output_type": "stream",
     "text": [
      "Max iteration reached for line search!\n",
      "The step size is -7.66247770432947e-06\n",
      "The descent direction is [-6.89759674e-08]\n",
      "After trial 10, parameters are [0.99999993] \n",
      "\n"
     ]
    },
    {
     "name": "stderr",
     "output_type": "stream",
     "text": [
      "\n"
     ]
    }
   ],
   "source": [
    "from regression.regressor import *  \n",
    "\n",
    "x0 = [pair[0] for pair in total]\n",
    "y0 = [pair[1] for pair in total]\n",
    "\n",
    "t = -5 # initial descent step size\n",
    "\n",
    "init_guess = np.array([2]) # initial guess for parameters\n",
    "\n",
    "solver = \"GaussNewton\"  \n",
    "\n",
    "solver_params = {\n",
    "    \"max_solver_iter\": 10,\n",
    "    \"step\": 1e-3,\n",
    "    \"max_line_search_iter\": 5,\n",
    "    \"verbose\": True\n",
    "}\n",
    "\n",
    "fit_params = {\n",
    "    \"alpha\": 0.1,\n",
    "    \"beta\": 0.8\n",
    "}\n",
    "\n",
    "params = regressor(x0, y0, t, fModel1, init_guess, solver, solver_params, fit_params)"
   ]
  },
  {
   "cell_type": "code",
   "execution_count": 13,
   "metadata": {},
   "outputs": [
    {
     "data": {
      "text/plain": [
       "array([0.99999993])"
      ]
     },
     "execution_count": 13,
     "metadata": {},
     "output_type": "execute_result"
    }
   ],
   "source": [
    "params"
   ]
  }
 ],
 "metadata": {
  "kernelspec": {
   "display_name": "Python 3.9.12",
   "language": "python",
   "name": "python3"
  },
  "language_info": {
   "codemirror_mode": {
    "name": "ipython",
    "version": 3
   },
   "file_extension": ".py",
   "mimetype": "text/x-python",
   "name": "python",
   "nbconvert_exporter": "python",
   "pygments_lexer": "ipython3",
   "version": "3.9.12"
  },
  "orig_nbformat": 4,
  "vscode": {
   "interpreter": {
    "hash": "38cca0c38332a56087b24af0bc80247f4fced29cb4f7f437d91dc159adec9c4e"
   }
  }
 },
 "nbformat": 4,
 "nbformat_minor": 2
}
