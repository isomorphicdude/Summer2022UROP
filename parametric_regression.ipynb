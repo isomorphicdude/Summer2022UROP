{
 "cells": [
  {
   "cell_type": "markdown",
   "metadata": {},
   "source": [
    "# Parametric Regression  \n",
    "\n",
    "In this notebook, we attemps to find optimal parameters for the model by using various nonlinear parametric methods"
   ]
  },
  {
   "cell_type": "code",
   "execution_count": 1,
   "metadata": {},
   "outputs": [
    {
     "name": "stdout",
     "output_type": "stream",
     "text": [
      "Your machine has 8 cores.\n"
     ]
    }
   ],
   "source": [
    "import os\n",
    "import time\n",
    "import shutil\n",
    "import contextlib\n",
    "import numpy as np\n",
    "import matplotlib.pyplot as plt\n",
    "\n",
    "\n",
    "from helper import *\n",
    "from models import *\n",
    "from solvers.euler import *\n",
    "from data_generator import *\n",
    "from solvers.gn_solver import *\n",
    "from solvers.rk_solvers import *\n",
    "\n",
    "\n",
    "print(f\"Your machine has {os.cpu_count()} cores.\")\n"
   ]
  },
  {
   "cell_type": "markdown",
   "metadata": {},
   "source": [
    "## 1 Gauss Newton"
   ]
  },
  {
   "cell_type": "markdown",
   "metadata": {},
   "source": [
    "First obtain some data as a list of tuples `total`. The first component is the initial conditions of `(201,2)` while the second is of the shape `(1000, 201, 2)`"
   ]
  },
  {
   "cell_type": "code",
   "execution_count": 2,
   "metadata": {},
   "outputs": [
    {
     "name": "stdout",
     "output_type": "stream",
     "text": [
      "Trying to use multiprocessing...\n",
      "Multiprocessing successful.\n",
      "Time taken: 3.06046199798584 seconds.\n"
     ]
    }
   ],
   "source": [
    "start = time.time()\n",
    "\n",
    "total = generateData(model4,\n",
    "        num_data = 1,\n",
    "        init_sty = 'random',\n",
    "        times = (0, 20),\n",
    "        params = {'no. of prey': 100, \n",
    "    'kappa for prey': 0.5, \n",
    "    'attraction of prey a': 0, \n",
    "    'repulsion of prey b_1': 0.15, \n",
    "    'repulsion of pred b_2': 0.55,\n",
    "    'p1 spotted': 0.8,\n",
    "    'p2 not spotted':0.4,\n",
    "    'angle_prey': np.cos(np.pi / 3),\n",
    "    'angle_pred': np.cos(np.pi / 2.5), \n",
    "    'num_neighbours': 5,\n",
    "    'attraction of pred c': 10, \n",
    "    'exponent of dist pred p': 3},\n",
    "        steps = 1000,\n",
    "        second_order = False,\n",
    "        method = 'rk2',\n",
    "        return_vel = False,\n",
    "        cores = 1,\n",
    "        flattened=True)\n",
    "end = time.time()\n",
    "print(f\"Time taken: {end-start} seconds.\")"
   ]
  },
  {
   "cell_type": "markdown",
   "metadata": {},
   "source": [
    "We still need a function that takes in parameter vector instead of a dictionary for regression; we take `attraction of prey a`, `repulsion of prey b_1`, `repulsion of pred b_2` as parameters for regression."
   ]
  },
  {
   "cell_type": "code",
   "execution_count": 3,
   "metadata": {},
   "outputs": [],
   "source": [
    "def fModel4(x, vec):\n",
    "    \"\"\"\n",
    "    Returns a flattened output.  \n",
    "\n",
    "    Args:  \n",
    "        - x: ndarray, initial conditions\n",
    "        - vec: ndarray, parameters of length 3\n",
    "    \n",
    "    \"\"\"  \n",
    "    params = {'no. of prey': 100, \n",
    "    'kappa for prey': 0.5, \n",
    "    'attraction of prey a': vec[0], \n",
    "    'repulsion of prey b_1': vec[1], \n",
    "    'repulsion of pred b_2': vec[2],\n",
    "    'p1 spotted': 0.8,\n",
    "    'p2 not spotted':0.4,\n",
    "    'angle_prey': np.cos(np.pi / 3),\n",
    "    'angle_pred': np.cos(np.pi / 2.5), \n",
    "    'num_neighbours': 5,\n",
    "    'attraction of pred c': 10, \n",
    "    'exponent of dist pred p': 3}\n",
    "    # print(params)\n",
    "    N = 100\n",
    "    times = (0,20)\n",
    "    steps = 1000\n",
    "    start, end = times  \n",
    "    h = (end - start) / steps\n",
    "    x = x.reshape(-1, 2) # reshape to coordinate form of initial conditions\n",
    "    y = rk2(model4, x, h, 2*N+1, times, params, return_vel=False, verbose=False)\n",
    "\n",
    "    return np.ravel(y)"
   ]
  },
  {
   "cell_type": "markdown",
   "metadata": {},
   "source": [
    "Feed in one sample and try the `GaussNewtonSolver`. Note it might be better to drop the zero values in the input"
   ]
  },
  {
   "cell_type": "code",
   "execution_count": 4,
   "metadata": {},
   "outputs": [
    {
     "name": "stderr",
     "output_type": "stream",
     "text": [
      "  0%|          | 0/2 [00:00<?, ?it/s]"
     ]
    },
    {
     "name": "stdout",
     "output_type": "stream",
     "text": [
      "Starting trial 0\n",
      "Computing jacobian\n",
      "Computing dk\n",
      "Starting Line Search\n",
      "Computing loss jacobian\n",
      "(1, 3)\n",
      "Computing loss jacobian\n"
     ]
    },
    {
     "name": "stderr",
     "output_type": "stream",
     "text": [
      " 50%|█████     | 1/2 [01:05<01:05, 65.43s/it]"
     ]
    },
    {
     "name": "stdout",
     "output_type": "stream",
     "text": [
      "(1, 3)\n",
      "Linear Search complete\n",
      "Updating parameters\n",
      "Starting trial 1\n",
      "Computing jacobian\n",
      "Computing dk\n",
      "Starting Line Search\n",
      "Computing loss jacobian\n",
      "(1, 3)\n",
      "Computing loss jacobian\n",
      "(1, 3)\n",
      "Computing loss jacobian\n",
      "(1, 3)\n",
      "Computing loss jacobian\n"
     ]
    },
    {
     "name": "stderr",
     "output_type": "stream",
     "text": [
      "100%|██████████| 2/2 [02:56<00:00, 88.04s/it]"
     ]
    },
    {
     "name": "stdout",
     "output_type": "stream",
     "text": [
      "(1, 3)\n",
      "Max iteration reached for line search!\n",
      "Linear Search complete\n",
      "Updating parameters\n"
     ]
    },
    {
     "name": "stderr",
     "output_type": "stream",
     "text": [
      "\n"
     ]
    },
    {
     "data": {
      "text/plain": [
       "array([0.00469683, 0.3850813 , 0.08859875])"
      ]
     },
     "execution_count": 4,
     "metadata": {},
     "output_type": "execute_result"
    }
   ],
   "source": [
    "x0 = total[0][0]\n",
    "y0 = total[0][1]\n",
    "guess = np.random.rand(3)\n",
    "gnsolver = GaussNewtonSolver(fModel4, max_iter=2, step = 1e-4)\n",
    "gnsolver.fit(x0, y0, 0.1, guess, 0.01, 0.1)"
   ]
  }
 ],
 "metadata": {
  "kernelspec": {
   "display_name": "Python 3.9.12",
   "language": "python",
   "name": "python3"
  },
  "language_info": {
   "codemirror_mode": {
    "name": "ipython",
    "version": 3
   },
   "file_extension": ".py",
   "mimetype": "text/x-python",
   "name": "python",
   "nbconvert_exporter": "python",
   "pygments_lexer": "ipython3",
   "version": "3.9.12"
  },
  "orig_nbformat": 4,
  "vscode": {
   "interpreter": {
    "hash": "38cca0c38332a56087b24af0bc80247f4fced29cb4f7f437d91dc159adec9c4e"
   }
  }
 },
 "nbformat": 4,
 "nbformat_minor": 2
}
