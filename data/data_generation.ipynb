{
 "cells": [
  {
   "cell_type": "code",
   "execution_count": 1,
   "metadata": {},
   "outputs": [
    {
     "name": "stdout",
     "output_type": "stream",
     "text": [
      "Your machine has 8 cores.\n"
     ]
    }
   ],
   "source": [
    "import sys; sys.path.insert(0, '..')\n",
    "\n",
    "import os\n",
    "import time\n",
    "import shutil\n",
    "import contextlib\n",
    "import numpy as np\n",
    "import matplotlib.pyplot as plt\n",
    "\n",
    "\n",
    "from models.helper import *\n",
    "from models.models import *\n",
    "from solvers.euler import *\n",
    "from solvers.rk_solvers import *\n",
    "\n",
    "from IPython.utils import io\n",
    "from data_generator import *\n",
    "\n",
    "print(f\"Your machine has {os.cpu_count()} cores.\")"
   ]
  },
  {
   "cell_type": "markdown",
   "metadata": {},
   "source": [
    "This is used to generate data from the models (stored in `models.py`). You can speed up the generation process by increasing the `cores` argument to take advantage of `multiprocessing`. The following context manager is taken from [StackOverflow](https://stackoverflow.com/questions/8391411/how-to-block-calls-to-print#:~:text=If%20you%20don%27t%20want,the%20top%20of%20the%20file.) to prevent printing but it does not work, as the printing comes from functions in other files"
   ]
  },
  {
   "cell_type": "code",
   "execution_count": null,
   "metadata": {},
   "outputs": [],
   "source": [
    "start = time.time()\n",
    "with io.capture_output() as captured:\n",
    "    total = generateData(model4,\n",
    "            num_data = 10,\n",
    "            init_sty = 'random',\n",
    "            times = (0, 20),\n",
    "            params = {'no. of prey': 100, \n",
    "        'kappa for prey': 0.5, \n",
    "        'attraction of prey a': 0, \n",
    "        'repulsion of prey b_1': 0.15, \n",
    "        'repulsion of pred b_2': 0.55,\n",
    "        'p1 spotted': 0.8,\n",
    "        'p2 not spotted':0.4,\n",
    "        'angle_prey': np.cos(np.pi / 3),\n",
    "        'angle_pred': np.cos(np.pi / 2.5), \n",
    "        'num_neighbours': 5,\n",
    "        'attraction of pred c': 10, \n",
    "        'exponent of dist pred p': 3},\n",
    "            steps = 1000,\n",
    "            second_order = False,\n",
    "            method = 'rk2',\n",
    "            return_vel = False,\n",
    "            cores = 8)\n",
    "end = time.time()\n",
    "print(f\"Time taken: {end-start} seconds.\")"
   ]
  },
  {
   "cell_type": "markdown",
   "metadata": {},
   "source": [
    "Check the output"
   ]
  },
  {
   "cell_type": "code",
   "execution_count": null,
   "metadata": {},
   "outputs": [],
   "source": [
    "total = list(total)"
   ]
  },
  {
   "cell_type": "code",
   "execution_count": null,
   "metadata": {},
   "outputs": [],
   "source": [
    "total[0][1].shape"
   ]
  },
  {
   "cell_type": "code",
   "execution_count": null,
   "metadata": {},
   "outputs": [],
   "source": [
    "multiPlot([total[0][1], 20/1000, 100], sample_points =[0,0.5,2,4,6,8,10],\n",
    "            axis_lim = None, second_order = False, quiver=True)"
   ]
  },
  {
   "cell_type": "markdown",
   "metadata": {},
   "source": [
    "The next steps are to create datasets from those objects"
   ]
  }
 ],
 "metadata": {
  "kernelspec": {
   "display_name": "Python 3.9.12",
   "language": "python",
   "name": "python3"
  },
  "language_info": {
   "codemirror_mode": {
    "name": "ipython",
    "version": 3
   },
   "file_extension": ".py",
   "mimetype": "text/x-python",
   "name": "python",
   "nbconvert_exporter": "python",
   "pygments_lexer": "ipython3",
   "version": "3.9.12"
  },
  "orig_nbformat": 4,
  "vscode": {
   "interpreter": {
    "hash": "38cca0c38332a56087b24af0bc80247f4fced29cb4f7f437d91dc159adec9c4e"
   }
  }
 },
 "nbformat": 4,
 "nbformat_minor": 2
}
