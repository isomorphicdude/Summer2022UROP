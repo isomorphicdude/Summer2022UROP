{
 "cells": [
  {
   "cell_type": "markdown",
   "metadata": {},
   "source": [
    "# Improvements to models"
   ]
  },
  {
   "cell_type": "markdown",
   "metadata": {},
   "source": [
    "We attempt to modify the model in the following ways:  \n",
    "\n",
    "1.  Generalizing to a second order model  (first order for leaders/predators and second order for followers/prey)  \n",
    "\n",
    "2. Adding perception cones of individuals \n",
    "\n",
    "3. Change the area of effect of other individuals: the interaction force is no longer averaged over the entire population but over $k$ nearest neighbours"
   ]
  },
  {
   "cell_type": "markdown",
   "metadata": {},
   "source": [
    "## 1 A second order model  \n",
    "\n",
    "The following is a second order model (first order for the predator)\n",
    "\n",
    "$$\n",
    "\\begin{equation}\n",
    "    \\begin{cases}\n",
    "        \\dot{x}_j = v_j\\\\[2ex]\n",
    "        \\dot{v}_j = \\dfrac1N \\sum\\limits_{k=1}^N  \\bigg\\{\\dfrac{\\kappa_h(v_k-v_j)}{(\\zeta_h ^2 + \\|x_j-x_k\\|^2)^{\\gamma_h}} - a(x_j-x_k) + b_1\\dfrac{x_j-x_k}{\\|x_j-x_k\\|^2}\\bigg\\} + {\\color{red}b_2\\dfrac{x_j-z}{\\|x_j-z\\|^2}} \\\\[5ex]\n",
    "        \\dot{z} = \\dfrac{1}{N} \\sum\\limits_{k=1}^N  c\\dfrac{x_k-z}{\\|x_k-z\\|^p}\n",
    "    \\end{cases}\n",
    "\\end{equation}\n",
    "$$  "
   ]
  },
  {
   "cell_type": "markdown",
   "metadata": {},
   "source": [
    "For the moment $\\zeta=\\gamma=1$ for both the prey and predator, while the parameters $a,b_1, b_2, c, p$ can be tuned.  \n",
    "It might be better if the summation above was taken to exclude the $j^{th}$ prey.  "
   ]
  },
  {
   "cell_type": "markdown",
   "metadata": {},
   "source": [
    "An observation is that larger $p$ will lead to predators moving away (inversely proportional to distance)"
   ]
  },
  {
   "cell_type": "code",
   "execution_count": null,
   "metadata": {},
   "outputs": [],
   "source": [
    "import os\n",
    "import shutil\n",
    "import numpy as np\n",
    "import matplotlib.pyplot as plt\n",
    "from solvers.rk_solvers import *\n",
    "from models import *\n",
    "from solvers.euler import *\n",
    "from helper import *"
   ]
  },
  {
   "cell_type": "code",
   "execution_count": null,
   "metadata": {},
   "outputs": [],
   "source": [
    "def rmPlots():\n",
    "    '''Removes all the plots.'''\n",
    "    if os.path.isdir(\"./plots/\"):\n",
    "        shutil.rmtree(\"./plots/\")\n",
    "    os.mkdir(\"plots\")\n",
    "rmPlots()"
   ]
  },
  {
   "cell_type": "markdown",
   "metadata": {},
   "source": [
    "### Case 1"
   ]
  },
  {
   "cell_type": "markdown",
   "metadata": {},
   "source": [
    "A stable state $\\kappa_h = 0.5, a=1, b_1 = 1, b_2 = 0.07, c = 10 ,p = 1.2$  "
   ]
  },
  {
   "cell_type": "code",
   "execution_count": null,
   "metadata": {},
   "outputs": [],
   "source": [
    "N = 100\n",
    "\n",
    "case1  = computeSoln(model1, \n",
    "    {'no. of prey': N, \n",
    "    'kappa for prey': 0.5, \n",
    "    'attraction of prey a': 1, \n",
    "    'repulsion of prey b_1': 1, \n",
    "    'repulsion of pred b_2': 0.07, \n",
    "    'attraction of pred c': 10, \n",
    "    'exponent of dist pred p': 1.2},\n",
    "    1000,\n",
    "    (0,20),\n",
    "    False,\n",
    "    'random',\n",
    "    'rk2',\n",
    "    False\n",
    "    )"
   ]
  },
  {
   "cell_type": "code",
   "execution_count": null,
   "metadata": {},
   "outputs": [],
   "source": [
    "multiPlot(case1, sample_points =[0,0.5,2,4,6,8,10],\n",
    "            axis_lim = None, second_order = True, quiver=True)"
   ]
  },
  {
   "cell_type": "code",
   "execution_count": null,
   "metadata": {},
   "outputs": [],
   "source": [
    "exportPlot(case1, sample_points = [0,0.5,2,4,6,8,10], \n",
    "            axis_lim = None, second_order = True, quiver=True, name = 'plot1')"
   ]
  },
  {
   "cell_type": "markdown",
   "metadata": {},
   "source": [
    "### Case 2"
   ]
  },
  {
   "cell_type": "markdown",
   "metadata": {},
   "source": [
    "A  state where the predator drives the prey into a cluster $\\kappa_h = 0.5, a=1, b_1 = 1, b_2 = 0.07, c = 1.5 ,p = 1.2$  "
   ]
  },
  {
   "cell_type": "code",
   "execution_count": null,
   "metadata": {},
   "outputs": [],
   "source": [
    "N = 100\n",
    "\n",
    "case2  = computeSoln(model1, \n",
    "    {'no. of prey': N, \n",
    "    'kappa for prey': 0.5, \n",
    "    'attraction of prey a': 1, \n",
    "    'repulsion of prey b_1': 1, \n",
    "    'repulsion of pred b_2': 0.07, \n",
    "    'attraction of pred c': 1.5, \n",
    "    'exponent of dist pred p': 1.2},\n",
    "    1000,\n",
    "    (0,100),\n",
    "    False,\n",
    "    'random',\n",
    "    'rk2',\n",
    "    False\n",
    "    )"
   ]
  },
  {
   "cell_type": "code",
   "execution_count": null,
   "metadata": {},
   "outputs": [],
   "source": [
    "# change at what times to plot\n",
    "multiPlot(case2, [0, 10, 15, 20, 60, 80, 90], \n",
    "            axis_lim = None, second_order = True, quiver=True)"
   ]
  },
  {
   "cell_type": "code",
   "execution_count": null,
   "metadata": {},
   "outputs": [],
   "source": [
    "exportPlot(case2, [0, 10, 15, 20, 60, 80, 90], \n",
    "            axis_lim = None, second_order = True, quiver=True, name = 'case2')"
   ]
  },
  {
   "cell_type": "markdown",
   "metadata": {},
   "source": [
    "### Case 3"
   ]
  },
  {
   "cell_type": "markdown",
   "metadata": {},
   "source": [
    "A state where the predator is more active and prey experiencing greater repulsion with  $\\kappa_h = 0.5, a=0, b_1 = 0.15, b_2 = 0.15, c = 10 ,p = 3$"
   ]
  },
  {
   "cell_type": "code",
   "execution_count": null,
   "metadata": {},
   "outputs": [],
   "source": [
    "N = 100\n",
    "\n",
    "case3  = computeSoln(model1, \n",
    "    {'no. of prey': N, \n",
    "    'kappa for prey': 0.5, \n",
    "    'attraction of prey a': 0, \n",
    "    'repulsion of prey b_1': 0.15, \n",
    "    'repulsion of pred b_2': 0.15, \n",
    "    'attraction of pred c': 10, \n",
    "    'exponent of dist pred p': 3},\n",
    "    1000,\n",
    "    (0,200),\n",
    "    False,\n",
    "    'random',\n",
    "    'rk2', # rk4 introduces numerical instability\n",
    "    False\n",
    "    )\n"
   ]
  },
  {
   "cell_type": "code",
   "execution_count": null,
   "metadata": {},
   "outputs": [],
   "source": [
    "multiPlot(case3, [0, 10, 12, 15, 20, 30, 40], \n",
    "            axis_lim = None, second_order = True, quiver=True)"
   ]
  },
  {
   "cell_type": "code",
   "execution_count": null,
   "metadata": {},
   "outputs": [],
   "source": [
    "exportPlot(case3, [0, 10, 12, 15, 20, 30, 40], \n",
    "            axis_lim = None, second_order = True, quiver=True, name='case3')"
   ]
  },
  {
   "cell_type": "markdown",
   "metadata": {},
   "source": [
    "## 2 Adding the perception cones  \n",
    "\n",
    "This is the same model but each individual of the prey can only react to the changes within their perceptioin cones.  \n",
    "\n",
    "$$\n",
    "\\begin{equation*}\n",
    "    \\begin{cases}\n",
    "        \\dot{x}_j = v_j\\\\[2ex]\n",
    "        \\dot{v}_j = \\dfrac1N \\sum\\limits_{k=1}^N  \\psi_\\alpha(x_k,x_j,v_k) \\bigg\\{\\dfrac{\\kappa_h(v_k-v_j)}{(\\zeta_h ^2 + \\|x_j-x_k\\|^2)^{\\gamma_h}} - a(x_j-x_k) + b_1\\dfrac{x_j-x_k}{\\|x_j-x_k\\|^2}\\bigg\\} + {\\color{red}b_2\\dfrac{x_j-z}{\\|x_j-z\\|^2} \\psi_\\alpha(x_j,z,v_j)} \\\\[5ex]  \n",
    "        \\dot{z} = \\dfrac{1}{N} \\sum\\limits_{k=1}^N  \\bigg\\{c\\dfrac{x_k-z}{\\|x_k-z\\|^p} \\bigg\\} \\psi_\\alpha(z,x_k,\\dot{z})\n",
    "    \\end{cases}\n",
    "\\end{equation*}\n",
    "$$  "
   ]
  },
  {
   "cell_type": "markdown",
   "metadata": {},
   "source": [
    "where the perception cone for the $i^{th}$ prey is given by  \n",
    "\n",
    "$$\n",
    "\\begin{equation*}\n",
    "        \\Sigma(x_i, v_i, \\theta) = \\left\\{ y \\in \\mathbb{R^d}: \\frac{(x_i-y) \\cdot v_i}{|x_i-y||v_i|} \\geq \\cos(\\theta/2) \\right\\}\n",
    "\\end{equation*}  \n",
    "$$  \n",
    "The perception is computed by  \n",
    "$$\n",
    "\\begin{equation*}\n",
    "        \\psi_{\\alpha} (x_i, x_j, v_i) = p_2 + (p_1-p_2) \\mathbf{1}_{\\Sigma(x_i, v_i, \\theta)}\n",
    "\\end{equation*} \n",
    "$$\n",
    "and $\\alpha = (\\theta, p_1, p_2)$ is the parameter vector with $p_1,p_2 \\in [0,1]$"
   ]
  },
  {
   "cell_type": "markdown",
   "metadata": {},
   "source": [
    "$\\kappa_h = 0.5, a=0, b_1 = 0.15, b_2 = 0.55, p_1 = 0.8, p_2 = 0.4, \\theta_{prey} = \\frac{\\pi}{3}, \n",
    "\\theta_{pred} = \\frac{2\\pi}{5}, c = 10 ,p = 3$  "
   ]
  },
  {
   "cell_type": "code",
   "execution_count": null,
   "metadata": {},
   "outputs": [],
   "source": [
    "N = 100\n",
    "\n",
    "case4  = computeSoln(func=model3, \n",
    "    params={'no. of prey': N, \n",
    "    'kappa for prey': 0.5, \n",
    "    'attraction of prey a': 0, \n",
    "    'repulsion of prey b_1': 0.15, \n",
    "    'repulsion of pred b_2': 0.55,\n",
    "    'p1 spotted': 0.8,\n",
    "    'p2 not spotted':0.4,\n",
    "    'angle_prey': np.cos(np.pi / 3),\n",
    "    'angle_pred': np.cos(np.pi / 2.5), \n",
    "    'attraction of pred c': 10, \n",
    "    'exponent of dist pred p': 3},\n",
    "    steps=1000,\n",
    "    times=(0,200),\n",
    "    second_order=False,\n",
    "    init_sty='random',\n",
    "    method='rk4',\n",
    "    return_vel=True\n",
    "    )"
   ]
  },
  {
   "cell_type": "code",
   "execution_count": null,
   "metadata": {},
   "outputs": [],
   "source": [
    "multiPlot(case4, [0, 30, 50, 70, 80, 100, 200], axis_lim = None, second_order = True, quiver=True)"
   ]
  },
  {
   "cell_type": "code",
   "execution_count": null,
   "metadata": {},
   "outputs": [],
   "source": [
    "exportPlot(case4, [0, 30, 50, 70, 80, 100, 200], \n",
    "            axis_lim = None, second_order = True, quiver=True, name='case4')"
   ]
  },
  {
   "cell_type": "markdown",
   "metadata": {},
   "source": [
    "A case with strong repulsion $\\kappa_h = 0.5, a=0.02, b_1 = 1, b_2 = 0.5, p_1 = 0.8, p_2 = 0.4, \\theta_{prey} = \\frac{\\pi}{3}, \n",
    "\\theta_{pred} = \\frac{2\\pi}{5}, c = 10 ,p = 3$  "
   ]
  },
  {
   "cell_type": "code",
   "execution_count": null,
   "metadata": {},
   "outputs": [],
   "source": [
    "# very unstable\n",
    "\n",
    "N = 100\n",
    "\n",
    "case4_test1  = computeSoln(func=model3, \n",
    "    params={'no. of prey': N, \n",
    "    'kappa for prey': 0.5, \n",
    "    'attraction of prey a': 0.02, \n",
    "    'repulsion of prey b_1': 1, \n",
    "    'repulsion of pred b_2': 0.5,\n",
    "    'p1 spotted': 0.8,\n",
    "    'p2 not spotted':0.4,\n",
    "    'angle_prey': np.cos(np.pi / 3),\n",
    "    'angle_pred': np.cos(np.pi / 2.5), \n",
    "    'attraction of pred c': 10, \n",
    "    'exponent of dist pred p': 3},\n",
    "    steps=1000,\n",
    "    times=(0,100),\n",
    "    second_order=False,\n",
    "    init_sty='random',\n",
    "    method='rk4',\n",
    "    return_vel=True\n",
    "    )"
   ]
  },
  {
   "cell_type": "code",
   "execution_count": null,
   "metadata": {},
   "outputs": [],
   "source": [
    "multiPlot(case4_test1, [0, 10, 20, 30, 40, 50, 60], \n",
    "            axis_lim = None, second_order = True, quiver=True)"
   ]
  },
  {
   "cell_type": "code",
   "execution_count": null,
   "metadata": {},
   "outputs": [],
   "source": [
    "exportPlot(case4_test1, [0, 10, 20, 30, 40, 50, 60], \n",
    "            axis_lim = None, second_order = True, quiver=True, name = 'case4_test1')"
   ]
  },
  {
   "cell_type": "markdown",
   "metadata": {},
   "source": [
    "$\\kappa_h = 0.9, a=0.05, b_1 = 1, b_2 = 0.05, p_1 = 0.8, p_2 = 0.4, \\theta_{prey} = \\frac{\\pi}{3}, \n",
    "\\theta_{pred} = \\frac{2\\pi}{5}, c = 10 ,p = 3$  "
   ]
  },
  {
   "cell_type": "code",
   "execution_count": null,
   "metadata": {},
   "outputs": [],
   "source": [
    "N = 100\n",
    "\n",
    "case4_test2  = computeSoln(func=model3, \n",
    "    params={'no. of prey': N, \n",
    "    'kappa for prey': 0.9, \n",
    "    'attraction of prey a': 0.05, \n",
    "    'repulsion of prey b_1': 1, \n",
    "    'repulsion of pred b_2': 0.05,\n",
    "    'p1 spotted': 0.8,\n",
    "    'p2 not spotted':0.4,\n",
    "    'angle_prey': np.cos(np.pi / 3),\n",
    "    'angle_pred': np.cos(np.pi / 2.5), \n",
    "    'attraction of pred c': 10, \n",
    "    'exponent of dist pred p': 3},\n",
    "    steps=1000,\n",
    "    times=(0,100),\n",
    "    second_order=False,\n",
    "    init_sty='random',\n",
    "    method='rk2',\n",
    "    return_vel=True\n",
    "    )\n"
   ]
  },
  {
   "cell_type": "code",
   "execution_count": null,
   "metadata": {},
   "outputs": [],
   "source": [
    "multiPlot(case4_test2, [0, 10, 30, 40, 60, 70, 80], \n",
    "            axis_lim = None, second_order = True, quiver=True)"
   ]
  },
  {
   "cell_type": "code",
   "execution_count": null,
   "metadata": {},
   "outputs": [],
   "source": [
    "exportPlot(case4_test2, [0, 10, 30, 40, 60, 70, 80], \n",
    "            axis_lim = None, second_order = True, quiver=True, name='case4_test2')"
   ]
  },
  {
   "cell_type": "markdown",
   "metadata": {},
   "source": [
    "## 3 Adding topological effect  \n",
    "\n",
    "Finally we consider the nearest neighbours' effect on each prey.   \n",
    "\n",
    "Note that the perception cone model does not necessarily reflect reality, as animals have senses other than vision.  We attempt to resolve this issue by taking the *union* of the nearest neighbours and the perception cone."
   ]
  },
  {
   "cell_type": "markdown",
   "metadata": {},
   "source": [
    "$$\n",
    "\\begin{equation*}\n",
    "    \\begin{cases}\n",
    "        \\dot{x}_j = v_j\\\\[2ex]\n",
    "        \\dot{v}_j = \\dfrac1N \\sum\\limits_{k=1}^N  \\varphi_\\alpha(x_k,x_j,v_k) \\bigg\\{\\dfrac{\\kappa_h(v_k-v_j)}{(\\zeta_h ^2 + \\|x_j-x_k\\|^2)^{\\gamma_h}} - a(x_j-x_k) + b_1\\dfrac{x_j-x_k}{\\|x_j-x_k\\|^2}\\bigg\\} + {\\color{red}b_2\\dfrac{x_j-z}{\\|x_j-z\\|^2} \\varphi_\\alpha(x_j,z,v_j)} \\\\[5ex]  \n",
    "        \\dot{z} = \\dfrac{1}{N} \\sum\\limits_{k=1}^N  \\bigg\\{c\\dfrac{x_k-z}{\\|x_k-z\\|^p} \\bigg\\} \\varphi_\\alpha(z,x_k,\\dot{z})\n",
    "    \\end{cases}\n",
    "\\end{equation*}\n",
    "$$  "
   ]
  },
  {
   "cell_type": "markdown",
   "metadata": {},
   "source": [
    "where the modified perception cone for the $i^{th}$ prey is given by  \n",
    "\n",
    "$$\n",
    "\\begin{equation*}\n",
    "        \\Lambda(x_i, v_i, \\mathcal{N}, \\theta) = \\left\\{ y \\in \\mathbb{R^d}: \\frac{(x_i-y) \\cdot v_i}{|x_i-y||v_i|} \\geq \\cos(\\theta/2) \\right\\} \\cup B_{\\mathcal{N}}(x_i; \\mathbf{x}, z)\n",
    "\\end{equation*}  \n",
    "$$  \n",
    "\n",
    "Here $B_{\\mathcal{N}}(x_i; \\mathbf{x}, z)$ denotes the ball containing $\\mathcal{N}$ nearest neighbours (both prey and predator) of the $i^{th}$ prey. Similar equation holds for the predator.   \n",
    "\n",
    "The perception is computed by  \n",
    "$$\n",
    "\\begin{equation*}\n",
    "        \\varphi_{\\alpha} (x_i, x_j, v_i) = p_2 + (p_1-p_2) \\mathbf{1}_{\\Lambda_(x_i, v_i, \\mathcal{N}, \\theta)}\n",
    "\\end{equation*} \n",
    "$$\n",
    "and $\\alpha = (\\theta, \\mathcal{N}, p_1, p_2)$ is the parameter vector with $p_1,p_2 \\in [0,1]$"
   ]
  },
  {
   "cell_type": "markdown",
   "metadata": {},
   "source": [
    "Some implementation ideas:  \n",
    "1.    Keep track of the $\\mathcal{N}$ nearest neighbours using an adjacency list (Linear time)  \n",
    "2.    Use built-in methods provided by libraries like `scikit-learn`.    \n",
    "\n",
    "\n",
    "The nearest neighbours can be returned as an array of indices, at which the elements of original perception cone masks are set to $1$."
   ]
  },
  {
   "cell_type": "markdown",
   "metadata": {},
   "source": [
    "$\\kappa_h = 0.5, a=0, b_1 = 0.15, b_2 = 0.55, p_1 = 0.8, p_2 = 0.4, \\theta_{prey} = \\frac{\\pi}{3}, \n",
    "\\theta_{pred} = \\frac{2\\pi}{5}, \\mathcal{N} = 5, c = 10 ,p = 3$  (a dampened process with the prey 'diverging' and  herd 'diluting')"
   ]
  },
  {
   "cell_type": "code",
   "execution_count": null,
   "metadata": {},
   "outputs": [],
   "source": [
    "N = 100\n",
    "\n",
    "case5  = computeSoln(func=model4, \n",
    "    params={'no. of prey': N, \n",
    "    'kappa for prey': 0.5, \n",
    "    'attraction of prey a': 0, \n",
    "    'repulsion of prey b_1': 0.15, \n",
    "    'repulsion of pred b_2': 0.55,\n",
    "    'p1 spotted': 0.8,\n",
    "    'p2 not spotted':0.4,\n",
    "    'angle_prey': np.cos(np.pi / 3),\n",
    "    'angle_pred': np.cos(np.pi / 2.5), \n",
    "    'num_neighbours': 5,\n",
    "    'attraction of pred c': 10, \n",
    "    'exponent of dist pred p': 3},\n",
    "    steps=1000,\n",
    "    times=(0,100),\n",
    "    second_order=False,\n",
    "    init_sty='random',\n",
    "    method='rk4',\n",
    "    return_vel=True\n",
    "    )"
   ]
  },
  {
   "cell_type": "code",
   "execution_count": null,
   "metadata": {},
   "outputs": [],
   "source": [
    "multiPlot(case5, [0, 10, 30, 40, 60, 70, 80], \n",
    "            axis_lim = 50, second_order = True, quiver=True)"
   ]
  },
  {
   "cell_type": "code",
   "execution_count": null,
   "metadata": {},
   "outputs": [],
   "source": [
    "exportPlot(case5, [0, 10, 30, 40, 60, 70, 80], \n",
    "            axis_lim = 50, second_order = True, quiver=True, name = 'case5')"
   ]
  },
  {
   "cell_type": "markdown",
   "metadata": {},
   "source": [
    "$\\kappa_h = 0.5, a=0.05, b_1 = 2, b_2 = 0.1, p_1 = 0.8, p_2 = 0.4, \\theta_{prey} = \\frac{\\pi}{3}, \n",
    "\\theta_{pred} = \\frac{2\\pi}{5}, \\mathcal{N} = 5, c = 10 ,p = 3$"
   ]
  },
  {
   "cell_type": "code",
   "execution_count": null,
   "metadata": {},
   "outputs": [],
   "source": [
    "N = 100\n",
    "\n",
    "case5_test1  = computeSoln(func=model4, \n",
    "    params={'no. of prey': N, \n",
    "    'kappa for prey': 0.5, \n",
    "    'attraction of prey a': 0.05, \n",
    "    'repulsion of prey b_1': 2, \n",
    "    'repulsion of pred b_2': 0.1,\n",
    "    'p1 spotted': 0.8,\n",
    "    'p2 not spotted':0.4,\n",
    "    'angle_prey': np.cos(np.pi / 3),\n",
    "    'angle_pred': np.cos(2*np.pi/5), \n",
    "    'num_neighbours': 5,\n",
    "    'attraction of pred c': 10, \n",
    "    'exponent of dist pred p': 3},\n",
    "    steps=1000,\n",
    "    times=(0,100),\n",
    "    second_order=False,\n",
    "    init_sty='random',\n",
    "    method='rk4',\n",
    "    return_vel=True\n",
    "    )"
   ]
  },
  {
   "cell_type": "code",
   "execution_count": null,
   "metadata": {},
   "outputs": [],
   "source": [
    "multiPlot(case5_test1, [0, 10, 20, 30, 50, 60, 70], \n",
    "            axis_lim = 20, second_order = True, quiver=True)"
   ]
  },
  {
   "cell_type": "code",
   "execution_count": null,
   "metadata": {},
   "outputs": [],
   "source": [
    "exportPlot(case5_test1,[0, 10, 20, 30, 50, 60, 70],\n",
    "            axis_lim = 20, second_order = True, quiver=True, name='case5_test1')"
   ]
  },
  {
   "cell_type": "markdown",
   "metadata": {},
   "source": [
    "TODO: add more examples"
   ]
  },
  {
   "cell_type": "code",
   "execution_count": null,
   "metadata": {},
   "outputs": [],
   "source": [
    "N = 100\n",
    "\n",
    "case5_test2  = computeSoln(func=model4, \n",
    "    params={'no. of prey': N, \n",
    "    'kappa for prey': 0.5, \n",
    "    'attraction of prey a': 0, \n",
    "    'repulsion of prey b_1': 0.15, \n",
    "    'repulsion of pred b_2': 0.55,\n",
    "    'p1 spotted': 0.8,\n",
    "    'p2 not spotted':0.4,\n",
    "    'angle_prey': np.cos(np.pi / 3),\n",
    "    'angle_pred': np.cos(np.pi / 2.5), \n",
    "    'num_neighbours': 10,\n",
    "    'attraction of pred c': 10, \n",
    "    'exponent of dist pred p': 3},\n",
    "    steps=1000,\n",
    "    times=(0,100),\n",
    "    second_order=False,\n",
    "    init_sty='random',\n",
    "    method='rk4',\n",
    "    return_vel=True\n",
    "    )"
   ]
  },
  {
   "cell_type": "code",
   "execution_count": null,
   "metadata": {},
   "outputs": [],
   "source": [
    "my_obj = 1\n",
    "my_obj"
   ]
  }
 ],
 "metadata": {
  "kernelspec": {
   "display_name": "Python 3.9.12",
   "language": "python",
   "name": "python3"
  },
  "language_info": {
   "codemirror_mode": {
    "name": "ipython",
    "version": 3
   },
   "file_extension": ".py",
   "mimetype": "text/x-python",
   "name": "python",
   "nbconvert_exporter": "python",
   "pygments_lexer": "ipython3",
   "version": "3.9.12"
  },
  "orig_nbformat": 4,
  "vscode": {
   "interpreter": {
    "hash": "38cca0c38332a56087b24af0bc80247f4fced29cb4f7f437d91dc159adec9c4e"
   }
  }
 },
 "nbformat": 4,
 "nbformat_minor": 2
}
