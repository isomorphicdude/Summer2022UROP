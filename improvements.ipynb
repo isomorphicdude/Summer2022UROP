{
 "cells": [
  {
   "cell_type": "markdown",
   "metadata": {},
   "source": [
    "# Improvements to models"
   ]
  },
  {
   "cell_type": "markdown",
   "metadata": {},
   "source": [
    "We attempt to modify the model in the following ways:  \n",
    "\n",
    "1.  Generalizing to a second order model  (first order for leaders/predators and second order for followers/prey)  \n",
    "\n",
    "2. Adding perception cones of individuals \n",
    "\n",
    "3. Change the area of effect of other individuals: the interaction force is no longer averaged over the entire population but over $k$ nearest neighbours"
   ]
  },
  {
   "cell_type": "markdown",
   "metadata": {},
   "source": [
    "## 1 A second order model  \n",
    "\n",
    "The following is a second order model  \n",
    "\n",
    "$$\n",
    "\\begin{equation}\n",
    "    \\begin{cases}\n",
    "        \\dot{x}_j = v_j\\\\[2ex]\n",
    "        \\dot{v}_j = \\dfrac1N \\sum\\limits_{k=1}^N  \\bigg\\{\\dfrac{\\kappa_h(v_k-v_j)}{(\\zeta_h ^2 + \\|x_j-x_k\\|^2)^{\\gamma_h}} - a(x_j-x_k) + b_1\\dfrac{x_j-x_k}{\\|x_j-x_k\\|^2}\\bigg\\} + {\\color{red}b_2\\dfrac{x_j-z}{\\|x_j-z\\|^2}} \\\\[5ex]\n",
    "        \\dot{z} = w\\\\[2ex]\n",
    "        \\dot{w} = \\dfrac{1}{N} \\sum\\limits_{k=1}^N  \\dfrac{\\kappa_p(v_k-w)}{(\\zeta_p ^2 + \\|z-x_k\\|^2)^{\\gamma_p}} + c\\dfrac{x_k-z}{\\|x_k-z\\|^p}\n",
    "    \\end{cases}\n",
    "\\end{equation}\n",
    "$$  "
   ]
  },
  {
   "cell_type": "markdown",
   "metadata": {},
   "source": [
    "For the moment $\\kappa=\\zeta=\\gamma=1$ for both the prey and predator, while the parameters $a,b_1, b_2, c, p$ can be tuned.  \n",
    "It might be better if the summation above was taken to exclude the $j^{th}$ prey."
   ]
  },
  {
   "cell_type": "code",
   "execution_count": 6,
   "metadata": {},
   "outputs": [],
   "source": [
    "import numpy as np\n",
    "import matplotlib.pyplot as plt\n",
    "from tqdm import tqdm\n",
    "from solvers.rk_solvers import *\n",
    "from solvers.euler import *\n",
    "from helper import *"
   ]
  },
  {
   "cell_type": "code",
   "execution_count": 2,
   "metadata": {},
   "outputs": [],
   "source": [
    "def model1(y, params):\n",
    "  '''\n",
    "  Returns ndarray of shape (dim, 2) containing the derivatives.   \n",
    "  \n",
    "  Input:   \n",
    "    - y: an array containing the following inputs   \n",
    "      - pprey: ndarray of (N,2), the positions of the prey  \n",
    "      - vprey: ndarray of (N,2), the velocities of the prey  \n",
    "      - ppred: ndarray of (1,2), the positions of the predator  \n",
    "      - vpred: ndarray of (1,2), the velocities of the predator  \n",
    "\n",
    "    - params: extra parameters for the model (N, a, b1, b2, c, p) for now\n",
    "\n",
    "  Returns:   \n",
    "    - dy: ndarray of (2*N+2, 2), the derivatives of the inputs  \n",
    "  '''  \n",
    "\n",
    "  # unpacking parameters\n",
    "  N, a, b1, b2, c, p = params \n",
    "\n",
    "  pprey = y[0:N]  \n",
    "  vprey = y[N:2*N]  \n",
    "  ppred = y[2*N:2*N+1]\n",
    "  vpred = y[2*N+1:]  \n",
    "\n",
    "\n",
    "  # List of len N, ndarrays of shape (N-1, 2)\n",
    "  dist_prey =  np.array([pprey[i] - np.delete(pprey, i, axis = 0) for i in range(N)])  \n",
    "\n",
    "  vel_prey  =  np.array([vprey[i] - np.delete(vprey, i, axis = 0) for i in range(N)])\n",
    "\n",
    "  # kernel of prey\n",
    "  ker_prey = np.sum (-1 * vel_prey / (1 + (np.linalg.norm(dist_prey, axis = 2)[:,:,np.newaxis]**2))\n",
    "                    ,axis = 1)   \n",
    "  \n",
    "  # attraction of prey\n",
    "  attrac_prey = -1 * a * np.sum(dist_prey, axis = 1)  \n",
    "\n",
    "  # repulsion of prey\n",
    "  rep_prey = b1 * np.sum (dist_prey / (np.linalg.norm(dist_prey, axis = 2)[:,:,np.newaxis]**2),\n",
    "                          axis = 1)\n",
    "  \n",
    "  # repulsion of predator\n",
    "  rep_pred = b2 * (pprey - ppred) / (np.linalg.norm(pprey - ppred, axis = 1)[:,np.newaxis]**2)  \n",
    "\n",
    "  # acceleration of prey\n",
    "  acc_prey = (1/N) * (ker_prey + attrac_prey + rep_prey) + rep_pred  \n",
    "\n",
    "  # kernel of predator\n",
    "  ker_pred = np.sum((vprey - vpred) / (1 + np.linalg.norm(ppred - pprey, axis = 1)[:,np.newaxis]**2),\n",
    "                    axis = 0)\n",
    "\n",
    "  # acceleration of predator\n",
    "  acc_pred = (1/N) * (ker_pred + \n",
    "                      c * np.sum((pprey - ppred) / (np.linalg.norm(pprey - ppred, axis = 1)[:,np.newaxis]**p), \n",
    "                                 axis = 0))[np.newaxis]\n",
    "                                 \n",
    "  return np.concatenate((vprey, acc_prey, vpred, acc_pred))\n",
    "  "
   ]
  },
  {
   "cell_type": "code",
   "execution_count": 3,
   "metadata": {},
   "outputs": [
    {
     "data": {
      "text/plain": [
       "array([[ 6.33486715e-01,  1.29529974e-01],\n",
       "       [ 7.93376349e-01,  6.50707094e-01],\n",
       "       [ 8.19970142e-03,  4.31802716e-01],\n",
       "       ...,\n",
       "       [-1.02327325e+01, -4.96626888e+00],\n",
       "       [ 2.53305878e-01,  3.41304149e-01],\n",
       "       [-2.69095288e+01, -1.02079305e+02]])"
      ]
     },
     "execution_count": 3,
     "metadata": {},
     "output_type": "execute_result"
    }
   ],
   "source": [
    "# Testing implementation  \n",
    "N=5000  \n",
    "\n",
    "model1(np.concatenate((np.random.rand(N,2), \n",
    "                      np.random.rand(N,2),\n",
    "                      np.random.rand(1,2),\n",
    "                       np.random.rand(1,2))\n",
    "                                      ), params = (N,1,2,3,4,3))"
   ]
  },
  {
   "cell_type": "markdown",
   "metadata": {},
   "source": [
    "### 1.1 Testing"
   ]
  },
  {
   "cell_type": "markdown",
   "metadata": {},
   "source": [
    "A dodgy case occurs probably due to numerical instability"
   ]
  },
  {
   "cell_type": "code",
   "execution_count": 9,
   "metadata": {},
   "outputs": [],
   "source": [
    "N = 100\n",
    "ring_test = expInit(N = N, \n",
    "                    style = 'ring',\n",
    "                    second_order = True,\n",
    "                    seed = 0)  "
   ]
  },
  {
   "cell_type": "code",
   "execution_count": 10,
   "metadata": {},
   "outputs": [
    {
     "name": "stdout",
     "output_type": "stream",
     "text": [
      "No. of time steps: 1000\n"
     ]
    },
    {
     "name": "stderr",
     "output_type": "stream",
     "text": [
      "100%|██████████| 999/999 [00:09<00:00, 100.32it/s]\n"
     ]
    }
   ],
   "source": [
    "test_result = rk4(model1, ring_test, 0.1, 2*N+2, (0,100), \n",
    "    (N, 1, 1, 0.2, 0.9, 3))"
   ]
  },
  {
   "cell_type": "code",
   "execution_count": 12,
   "metadata": {},
   "outputs": [
    {
     "data": {
      "image/png": "[encoded data removed]",
      "text/plain": [
       "<Figure size 1080x1080 with 10 Axes>"
      ]
     },
     "metadata": {
      "needs_background": "light"
     },
     "output_type": "display_data"
    }
   ],
   "source": [
    "case = (test_result, 0.1, [i*10 for i in range(10)], 15, N)\n",
    "multiPlot(case)"
   ]
  },
  {
   "cell_type": "markdown",
   "metadata": {},
   "source": [
    "## 2 Adding the perception cones  \n",
    "\n",
    "This is the same model but each individual of the prey can only react to the changes within their perceptioin cones.  \n",
    "\n",
    "$$\n",
    "\\begin{equation}\n",
    "    \\begin{cases}\n",
    "        \\dot{x}_j = v_j\\\\[2ex]\n",
    "        \\dot{v}_j = \\dfrac1N \\sum\\limits_{k=1}^N  \\psi_\\alpha(x_j,x_k,v_j) \\bigg\\{\\dfrac{\\kappa_h(v_k-v_j)}{(\\zeta_h ^2 + \\|x_j-x_k\\|^2)^{\\gamma_h}} - a(x_j-x_k) + b_1\\dfrac{x_j-x_k}{\\|x_j-x_k\\|^2}\\bigg\\} + {\\color{red}b_2\\dfrac{x_j-z}{\\|x_j-z\\|^2}} \\\\[5ex]\n",
    "        \\dot{z} = w\\\\[2ex]\n",
    "        \\dot{w} = \\dfrac{1}{N} \\sum\\limits_{k=1}^N  \\dfrac{\\kappa_p(v_k-w)}{(\\zeta_p ^2 + \\|z-x_k\\|^2)^{\\gamma_p}} + c\\dfrac{x_k-z}{\\|x_k-z\\|^p}\n",
    "    \\end{cases}\n",
    "\\end{equation}\n",
    "$$  "
   ]
  },
  {
   "cell_type": "code",
   "execution_count": null,
   "metadata": {},
   "outputs": [],
   "source": []
  },
  {
   "cell_type": "markdown",
   "metadata": {},
   "source": [
    "## 3 Adding topological effect  \n",
    "\n",
    "Finally we consider the nearest neighbours' effect on each prey."
   ]
  },
  {
   "cell_type": "markdown",
   "metadata": {},
   "source": []
  }
 ],
 "metadata": {
  "kernelspec": {
   "display_name": "Python 3.8.13 ('base')",
   "language": "python",
   "name": "python3"
  },
  "language_info": {
   "codemirror_mode": {
    "name": "ipython",
    "version": 3
   },
   "file_extension": ".py",
   "mimetype": "text/x-python",
   "name": "python",
   "nbconvert_exporter": "python",
   "pygments_lexer": "ipython3",
   "version": "3.8.13"
  },
  "orig_nbformat": 4,
  "vscode": {
   "interpreter": {
    "hash": "214ae085943121352a1c46be52870768915bb1800a79b1ca0ca08a53dfbff110"
   }
  }
 },
 "nbformat": 4,
 "nbformat_minor": 2
}
