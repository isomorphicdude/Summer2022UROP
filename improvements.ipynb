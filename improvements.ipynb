{
 "cells": [
  {
   "cell_type": "markdown",
   "metadata": {},
   "source": [
    "# Improvements to models"
   ]
  },
  {
   "cell_type": "markdown",
   "metadata": {},
   "source": [
    "We attempt to modify the model in the following ways:  \n",
    "\n",
    "- Adding restrictions to vision field of individuals (sensory regions, the regions where movement of other individuals (can be) are percepted)\n",
    "\n",
    "- Generalizing to a second order model  (first order for leaders/predators and second order for followers/prey)\n",
    "\n",
    "- Change the area of effect of other individuals: the interaction force is no longer averaged over the entire population but over $k$ nearest neighbours"
   ]
  },
  {
   "cell_type": "markdown",
   "metadata": {},
   "source": [
    "<font size=\"1\"> (Perhaps the first one is not much realistic as the herbivores generally have a large vision field to avoid predators and both of them can turn their heads to get a 360 view angle) </font>"
   ]
  },
  {
   "cell_type": "markdown",
   "metadata": {},
   "source": [
    "(Draft) Now we can write the model as the following  \n",
    "\n",
    "$$\n",
    "\\begin{cases}  \n",
    "    \\dot{x_i} = v_i \\\\  \n",
    "    \\dot{v_i} = a \\ {\\rm Repulsion \\ average \\ over \\ KNN} + b \\ {\\rm Attraction \\ average \\ over \\ KNN} + c \\ {\\rm Interaction \\ with \\ predator} \\\\  \n",
    "    \\dot{p} = d \\ {\\rm Interaction \\ average \\ over \\ prey}\n",
    "\\end{cases}\n",
    "$$"
   ]
  },
  {
   "cell_type": "markdown",
   "metadata": {},
   "source": [
    "A useful thing to have:  \n",
    "\n",
    "$$\n",
    "R(x,x') = \n",
    "    \\begin{cases} \n",
    "        \\exp(-|x'-x|^{\\gamma}) \\frac{x'-x}{|x'-x|} & x' \\in B_r(x) \\setminus \\{x\\} \\\\\n",
    "        0 & {\\rm otherwise}    \n",
    "    \\end{cases}\n",
    "$$  \n",
    "which can be used to model the repulsion in acceleration term."
   ]
  },
  {
   "cell_type": "markdown",
   "metadata": {},
   "source": []
  }
 ],
 "metadata": {
  "interpreter": {
   "hash": "e4cce46d6be9934fbd27f9ca0432556941ea5bdf741d4f4d64c6cd7f8dfa8fba"
  },
  "kernelspec": {
   "display_name": "Python 3.6.6 ('base')",
   "language": "python",
   "name": "python3"
  },
  "language_info": {
   "name": "python",
   "version": "3.6.6"
  },
  "orig_nbformat": 4
 },
 "nbformat": 4,
 "nbformat_minor": 2
}
