{
 "cells": [
  {
   "cell_type": "markdown",
   "metadata": {},
   "source": [
    "# Improvements to models"
   ]
  },
  {
   "cell_type": "markdown",
   "metadata": {},
   "source": [
    "We attempt to modify the model in the following ways:  \n",
    "\n",
    "1.  Generalizing to a second order model  (first order for leaders/predators and second order for followers/prey)  \n",
    "\n",
    "2. Adding perception cones of individuals \n",
    "\n",
    "3. Change the area of effect of other individuals: the interaction force is no longer averaged over the entire population but over $k$ nearest neighbours"
   ]
  },
  {
   "cell_type": "markdown",
   "metadata": {},
   "source": [
    "## 1 A second order model  \n",
    "\n",
    "The following is a second order model  \n",
    "\n",
    "$$\n",
    "\\begin{equation}\n",
    "    \\begin{cases}\n",
    "        \\dot{x}_j = v_j\\\\[2ex]\n",
    "        \\dot{v}_j = \\dfrac1N \\sum\\limits_{k=1}^N  \\bigg\\{\\dfrac{\\kappa_h(v_k-v_j)}{(\\zeta_h ^2 + \\|x_j-x_k\\|^2)^{\\gamma_h}} - a(x_j-x_k) + b_1\\dfrac{x_j-x_k}{\\|x_j-x_k\\|^2}\\bigg\\} + {\\color{red}b_2\\dfrac{x_j-z}{\\|x_j-z\\|^2}} \\\\[5ex]\n",
    "        \\dot{z} = w\\\\[2ex]\n",
    "        \\dot{w} = \\dfrac{1}{N} \\sum\\limits_{k=1}^N  \\dfrac{\\kappa_p(v_k-w)}{(\\zeta_p ^2 + \\|z-x_k\\|^2)^{\\gamma_p}} + c\\dfrac{x_k-z}{\\|x_k-z\\|^p}\n",
    "    \\end{cases}\n",
    "\\end{equation}\n",
    "$$  "
   ]
  },
  {
   "cell_type": "markdown",
   "metadata": {},
   "source": [
    "For the moment $\\kappa=\\zeta=\\gamma=1$ for both the prey and predator, while the parameters $a,b_1, b_2, c, p$ can be tuned.  \n",
    "It might be better if the summation above was taken to exclude the $j^{th}$ prey."
   ]
  },
  {
   "cell_type": "code",
   "execution_count": 5,
   "metadata": {},
   "outputs": [],
   "source": [
    "from solvers.rk_solvers import *\n",
    "from solvers.euler import *"
   ]
  },
  {
   "cell_type": "code",
   "execution_count": null,
   "metadata": {},
   "outputs": [],
   "source": []
  },
  {
   "cell_type": "markdown",
   "metadata": {},
   "source": [
    "## 2 Adding the perception cones  \n",
    "\n",
    "This is the same model but each individual of the prey can only react to the changes within their perceptioin cones.  \n",
    "\n",
    "$$\n",
    "\\begin{equation}\n",
    "    \\begin{cases}\n",
    "        \\dot{x}_j = v_j\\\\[2ex]\n",
    "        \\dot{v}_j = \\dfrac1N \\sum\\limits_{k=1}^N  \\psi_\\alpha(x_j,x_k,v_j) \\bigg\\{\\dfrac{\\kappa_h(v_k-v_j)}{(\\zeta_h ^2 + \\|x_j-x_k\\|^2)^{\\gamma_h}} - a(x_j-x_k) + b_1\\dfrac{x_j-x_k}{\\|x_j-x_k\\|^2}\\bigg\\} + {\\color{red}b_2\\dfrac{x_j-z}{\\|x_j-z\\|^2}} \\\\[5ex]\n",
    "        \\dot{z} = w\\\\[2ex]\n",
    "        \\dot{w} = \\dfrac{1}{N} \\sum\\limits_{k=1}^N  \\dfrac{\\kappa_p(v_k-w)}{(\\zeta_p ^2 + \\|z-x_k\\|^2)^{\\gamma_p}} + c\\dfrac{x_k-z}{\\|x_k-z\\|^p}\n",
    "    \\end{cases}\n",
    "\\end{equation}\n",
    "$$  "
   ]
  },
  {
   "cell_type": "code",
   "execution_count": null,
   "metadata": {},
   "outputs": [],
   "source": []
  },
  {
   "cell_type": "markdown",
   "metadata": {},
   "source": [
    "## 3 Adding topological effect  \n",
    "\n",
    "Finally we consider the nearest neighbours' effect on each prey."
   ]
  },
  {
   "cell_type": "markdown",
   "metadata": {},
   "source": []
  }
 ],
 "metadata": {
  "kernelspec": {
   "display_name": "Python 3.8.13 ('base')",
   "language": "python",
   "name": "python3"
  },
  "language_info": {
   "codemirror_mode": {
    "name": "ipython",
    "version": 3
   },
   "file_extension": ".py",
   "mimetype": "text/x-python",
   "name": "python",
   "nbconvert_exporter": "python",
   "pygments_lexer": "ipython3",
   "version": "3.8.13"
  },
  "orig_nbformat": 4,
  "vscode": {
   "interpreter": {
    "hash": "214ae085943121352a1c46be52870768915bb1800a79b1ca0ca08a53dfbff110"
   }
  }
 },
 "nbformat": 4,
 "nbformat_minor": 2
}
