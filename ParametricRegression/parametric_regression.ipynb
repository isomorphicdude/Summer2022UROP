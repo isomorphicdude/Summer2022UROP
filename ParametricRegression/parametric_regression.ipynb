{
 "cells": [
  {
   "cell_type": "markdown",
   "metadata": {},
   "source": [
    "# Parametric Regression  \n",
    "\n",
    "In this notebook, we attemps to find optimal parameters for the model by using various nonlinear parametric methods"
   ]
  },
  {
   "cell_type": "code",
   "execution_count": 14,
   "metadata": {},
   "outputs": [
    {
     "name": "stdout",
     "output_type": "stream",
     "text": [
      "Your machine has 8 cores.\n"
     ]
    }
   ],
   "source": [
    "import os\n",
    "import time\n",
    "import shutil\n",
    "import contextlib\n",
    "import numpy as np\n",
    "import matplotlib.pyplot as plt\n",
    "\n",
    "\n",
    "from helper import *\n",
    "from models import *\n",
    "from solvers.euler import *\n",
    "from data_generator import *\n",
    "from solvers.gn_solver import *\n",
    "from solvers.rk_solvers import *\n",
    "\n",
    "\n",
    "print(f\"Your machine has {os.cpu_count()} cores.\")\n"
   ]
  },
  {
   "cell_type": "markdown",
   "metadata": {},
   "source": [
    "## 1 Gauss Newton"
   ]
  },
  {
   "cell_type": "markdown",
   "metadata": {},
   "source": [
    "First obtain some data as a list of tuples `total`. The first component is the initial conditions of `(201,2)` while the second is of the shape `(1000, 201, 2)`"
   ]
  },
  {
   "cell_type": "code",
   "execution_count": 15,
   "metadata": {},
   "outputs": [
    {
     "name": "stdout",
     "output_type": "stream",
     "text": [
      "Trying to use multiprocessing...\n",
      "Multiprocessing successful.\n",
      "Time taken: 28.752002954483032 seconds.\n"
     ]
    }
   ],
   "source": [
    "N = 100\n",
    "\n",
    "start = time.time()\n",
    "\n",
    "total_model_4 = generateData(model4,\n",
    "        num_data = 10,\n",
    "        init_sty = 'random',\n",
    "        times = (0, 20),\n",
    "        params = {'no. of prey': N, \n",
    "    'kappa for prey': 0.5, \n",
    "    'attraction of prey a': 0, \n",
    "    'repulsion of prey b_1': 0.15, \n",
    "    'repulsion of pred b_2': 0.55,\n",
    "    'p1 spotted': 0.8,\n",
    "    'p2 not spotted':0.4,\n",
    "    'angle_prey': np.cos(np.pi / 3),\n",
    "    'angle_pred': np.cos(np.pi / 2.5), \n",
    "    'num_neighbours': 5,\n",
    "    'attraction of pred c': 10, \n",
    "    'exponent of dist pred p': 3},\n",
    "        steps = 1000,\n",
    "        second_order = False,\n",
    "        method = 'rk2',\n",
    "        return_vel = False,\n",
    "        cores = 1,\n",
    "        flattened=True)\n",
    "end = time.time()\n",
    "print(f\"Time taken: {end-start} seconds.\")"
   ]
  },
  {
   "cell_type": "markdown",
   "metadata": {},
   "source": [
    "Alternatively, we generate data using `model1`, the simplest of all models."
   ]
  },
  {
   "cell_type": "code",
   "execution_count": 16,
   "metadata": {},
   "outputs": [
    {
     "name": "stdout",
     "output_type": "stream",
     "text": [
      "Trying to use multiprocessing...\n",
      "Multiprocessing successful.\n",
      "Time taken: 211.06027483940125 seconds.\n"
     ]
    }
   ],
   "source": [
    "# trying a simpler model\n",
    "start = time.time()\n",
    "\n",
    "total = generateData(model1,\n",
    "        num_data = 100,\n",
    "        init_sty = 'random',\n",
    "        times = (0, 20),\n",
    "        params = {'no. of prey': N, \n",
    "    'kappa for prey': 0.5, \n",
    "    'attraction of prey a': 1, \n",
    "    'repulsion of prey b_1': 1, \n",
    "    'repulsion of pred b_2': 0.07, \n",
    "    'attraction of pred c': 10, \n",
    "    'exponent of dist pred p': 1.2},\n",
    "        steps = 1000,\n",
    "        second_order = False,\n",
    "        method = 'rk2',\n",
    "        return_vel = False,\n",
    "        cores = 1,\n",
    "        flattened=True)\n",
    "end = time.time()\n",
    "print(f\"Time taken: {end-start} seconds.\")"
   ]
  },
  {
   "cell_type": "markdown",
   "metadata": {},
   "source": [
    "We still need a function that takes in parameter vector instead of a dictionary for regression; we take `attraction of prey a`, `repulsion of prey b_1`, `repulsion of pred b_2` as parameters for regression."
   ]
  },
  {
   "cell_type": "code",
   "execution_count": 17,
   "metadata": {},
   "outputs": [],
   "source": [
    "def fModel4(x, vec):\n",
    "    \"\"\"\n",
    "    Returns a flattened output.  \n",
    "\n",
    "    Args:  \n",
    "        - x: ndarray, initial conditions\n",
    "        - vec: ndarray, parameters of length 3\n",
    "    \n",
    "    \"\"\"  \n",
    "    params = {'no. of prey': N, \n",
    "    'kappa for prey': 0.5, \n",
    "    'attraction of prey a': vec[0], \n",
    "    'repulsion of prey b_1': vec[1], \n",
    "    'repulsion of pred b_2': vec[2],\n",
    "    'p1 spotted': 0.8,\n",
    "    'p2 not spotted':0.4,\n",
    "    'angle_prey': np.cos(np.pi / 3),\n",
    "    'angle_pred': np.cos(np.pi / 2.5), \n",
    "    'num_neighbours': 5,\n",
    "    'attraction of pred c': 10, \n",
    "    'exponent of dist pred p': 3}\n",
    "\n",
    "    N = 100\n",
    "    times = (0,20)\n",
    "    steps = 1000\n",
    "    start, end = times  \n",
    "    h = (end - start) / steps\n",
    "    x = x.reshape(-1, 2) # reshape to coordinate form of initial conditions\n",
    "    y = rk2(model4, x, h, 2*N+1, times, params, return_vel=False, verbose=False)\n",
    "\n",
    "    return np.ravel(y)"
   ]
  },
  {
   "cell_type": "markdown",
   "metadata": {},
   "source": [
    "We try to extract just one parameter, `attraction of prey a`"
   ]
  },
  {
   "cell_type": "markdown",
   "metadata": {},
   "source": [
    "Feed in one sample and try the `GaussNewtonSolver`. Note it might be better to drop the zero values in the input and to remove some configurations at some time steps of $y$"
   ]
  },
  {
   "cell_type": "code",
   "execution_count": 23,
   "metadata": {},
   "outputs": [],
   "source": [
    "def fModel1(x, vec):\n",
    "    \"\"\"\n",
    "    Returns a flattened output.  \n",
    "\n",
    "    Args:  \n",
    "        - x: ndarray, initial conditions\n",
    "        - vec: ndarray, parameters of length 1\n",
    "    \n",
    "    \"\"\"  \n",
    "\n",
    "    params = {'no. of prey': N, \n",
    "    'kappa for prey': 0.5, \n",
    "    'attraction of prey a': vec[0], \n",
    "    'repulsion of prey b_1': 1, \n",
    "    'repulsion of pred b_2': 0.07, \n",
    "    'attraction of pred c': 10, \n",
    "    'exponent of dist pred p': 1.2}\n",
    "    \n",
    "    times = (0,20)\n",
    "    steps = 1000\n",
    "    start, end = times  \n",
    "    h = (end - start) / steps\n",
    "    x = x.reshape(-1, 2) # reshape to coordinate form of initial conditions\n",
    "    y = rk2(model1, x, h, 2*N+1, times, params, return_vel=False, verbose=False)\n",
    "\n",
    "    return np.ravel(y)[::100]"
   ]
  },
  {
   "cell_type": "markdown",
   "metadata": {},
   "source": [
    "We also apply the same augmentation to data"
   ]
  },
  {
   "cell_type": "code",
   "execution_count": 19,
   "metadata": {},
   "outputs": [
    {
     "name": "stdout",
     "output_type": "stream",
     "text": [
      "(402000,)\n",
      "4020\n"
     ]
    }
   ],
   "source": [
    "x0 = total[0][0]\n",
    "y0 = total[0][1]  \n",
    "print(y0.shape)\n",
    "# only keep times that are 100 apart  \n",
    "y0 = y0[::100]\n",
    "print(len(y0))"
   ]
  },
  {
   "cell_type": "code",
   "execution_count": 20,
   "metadata": {},
   "outputs": [],
   "source": [
    "def reduceTimesteps(xy_pair, timesteps=100):\n",
    "    \"\"\"\n",
    "    Reduces the number of timesteps by a factor of timesteps.\n",
    "    \"\"\"\n",
    "    return (xy_pair[0], xy_pair[1][::timesteps])\n",
    "\n",
    "total = [reduceTimesteps(xy_pair) for xy_pair in total]"
   ]
  },
  {
   "cell_type": "code",
   "execution_count": 21,
   "metadata": {},
   "outputs": [
    {
     "name": "stdout",
     "output_type": "stream",
     "text": [
      "(4020,)\n"
     ]
    }
   ],
   "source": [
    "print(total[0][1].shape)"
   ]
  },
  {
   "cell_type": "markdown",
   "metadata": {},
   "source": [
    "Ideally the solver should return `attraction of prey a` as `1` with some acceptable error"
   ]
  },
  {
   "cell_type": "code",
   "execution_count": null,
   "metadata": {},
   "outputs": [],
   "source": [
    "guess = np.array([2])\n",
    "gnsolver = GaussNewtonSolver(fModel1, max_solver_iter=10, step = 1e-3, max_line_search_iter=5, verbose=True)\n",
    "gnsolver.fit(x0, y0, -5, guess, alpha = 0.1, beta=0.8)"
   ]
  },
  {
   "cell_type": "markdown",
   "metadata": {},
   "source": [
    "To take this a step further, we perform the Gauss-Newton algorithm multiple times with more data"
   ]
  },
  {
   "cell_type": "code",
   "execution_count": null,
   "metadata": {},
   "outputs": [],
   "source": [
    "from regression.regressor import *  \n",
    "\n",
    "x0 = [pair[0] for pair in total]\n",
    "y0 = [pair[1] for pair in total]\n",
    "\n",
    "t = -5 # initial descent step size\n",
    "\n",
    "init_guess = np.array([2]) # initial guess for parameters\n",
    "\n",
    "solver = \"GaussNewton\"  \n",
    "\n",
    "solver_params = {\n",
    "    \"max_solver_iter\": 10,\n",
    "    \"step\": 1e-3,\n",
    "    \"max_line_search_iter\": 5,\n",
    "    \"verbose\": True\n",
    "}\n",
    "\n",
    "fit_params = {\n",
    "    \"alpha\": 0.1,\n",
    "    \"beta\": 0.8\n",
    "}\n",
    "\n",
    "params = regressor(x0, y0, t, fModel1, init_guess, solver, solver_params, fit_params)"
   ]
  },
  {
   "cell_type": "code",
   "execution_count": 25,
   "metadata": {},
   "outputs": [
    {
     "data": {
      "text/plain": [
       "array([0.99999993])"
      ]
     },
     "execution_count": 25,
     "metadata": {},
     "output_type": "execute_result"
    }
   ],
   "source": [
    "params"
   ]
  }
 ],
 "metadata": {
  "kernelspec": {
   "display_name": "Python 3.9.12",
   "language": "python",
   "name": "python3"
  },
  "language_info": {
   "codemirror_mode": {
    "name": "ipython",
    "version": 3
   },
   "file_extension": ".py",
   "mimetype": "text/x-python",
   "name": "python",
   "nbconvert_exporter": "python",
   "pygments_lexer": "ipython3",
   "version": "3.9.12"
  },
  "orig_nbformat": 4,
  "vscode": {
   "interpreter": {
    "hash": "38cca0c38332a56087b24af0bc80247f4fced29cb4f7f437d91dc159adec9c4e"
   }
  }
 },
 "nbformat": 4,
 "nbformat_minor": 2
}
